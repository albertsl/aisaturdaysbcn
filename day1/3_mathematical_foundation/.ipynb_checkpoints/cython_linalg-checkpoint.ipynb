{
 "cells": [
  {
   "cell_type": "markdown",
   "metadata": {},
   "source": [
    "<style>\n",
    "\n",
    "   .cell {\n",
    "       width: inherit !important;\n",
    "       background-color: #f3f3f3 !important;\n",
    "       margin-left: 120px !important;\n",
    "   }\n",
    "\n",
    "   /* block fixes margin on input boxes */\n",
    "   /* in firefox */\n",
    "   .input.hbox {\n",
    "        width: 50em !important;\n",
    "        display: block !important;\n",
    "    }\n",
    "    \n",
    "   .input_area { \n",
    "        background-color: white !important; \n",
    "    }\n",
    "\n",
    "    .output_area pre {\n",
    "        font-family: \"Source Code Pro\", source-code-pro, Consolas, monospace;\n",
    "        border: 0px;\n",
    "    }\n",
    "\n",
    "    div.output_text {\n",
    "        font-family: \"Source Code Pro\", source-code-pro, Consolas, monospace; \n",
    "    }\n",
    "\n",
    "    div.text_cell {\n",
    "        width: 35em;\n",
    "        text-align: left;\n",
    "    }\n",
    "    \n",
    "    div.prompt {\n",
    "        width: 0px;\n",
    "        visibility: hidden !important;\n",
    "    }\n",
    "    \n",
    "    .code_cell {\n",
    "        background-color: #f3f3f3;\n",
    "    }\n",
    "    \n",
    "    .highlight {\n",
    "        background-color: #ffffff;\n",
    "    }\n",
    "        \n",
    "    \n",
    "    \n",
    "    div.input_prompt {\n",
    "        visibility: hidden;\n",
    "        width: 0 !important;\n",
    "    }\n",
    "\n",
    "    div.text_cell_render {\n",
    "        font-family: \"Minion Pro\", \"minion-pro\", \"Charis SIL\", Palatino, serif !important;\n",
    "        font-size: 14pt !important;\n",
    "        line-height: 145% !important;\n",
    "        width: 35em !important;\n",
    "        text-align: left !important;\n",
    "        background-color: #f3f3f3 !important;\n",
    "    }\n",
    "\n",
    "    div.text_cell_render h1 {\n",
    "        display: block;\n",
    "        font-size: 28pt;\n",
    "        color: #3B3B3B;\n",
    "        margin-bottom: 0em;\n",
    "        margin-top: 0.5em;\n",
    "        \n",
    "    }\n",
    "    \n",
    "    .rendered_html li {\n",
    "        margin-bottom: .25em;\n",
    "        color: #3B3B3B;;\n",
    "    }\n",
    "    \n",
    "    div.text_cell_render h2:before {\n",
    "        content: \"\\2FFA\";\n",
    "        margin-right: 0.5em;\n",
    "        font-size: .5em;\n",
    "        vertical-align: baseline;\n",
    "        border-top: 1px;\n",
    "\n",
    "    }\n",
    "\n",
    "    .hiterm {\n",
    "        font-weight: 500;\n",
    "        color: #DC143C;\n",
    "    }\n",
    "\n",
    "   .text_cell_render h2 {\n",
    "        font-size: 20pt;\n",
    "        margin-bottom: 0em;\n",
    "        margin-top: 0.5em;\n",
    "        display: block;\n",
    "        color: #3B3B3B;\n",
    "    }\n",
    "\n",
    "    .MathJax_Display {\n",
    "        /*text-align: center !important;*/\n",
    "        margin-left: 2em !important;\n",
    "        margin-top: .5em !important;\n",
    "        margin-bottom: .5em !important;\n",
    "    }\n",
    "\n",
    "    .text_cell_render h3 {\n",
    "        font-size: 14pt;\n",
    "        font-weight: 600;\n",
    "        font-style: italic;\n",
    "        margin-bottom: -0.5em;\n",
    "        margin-top: -0.25em;\n",
    "        color: #3B3B3B;\n",
    "        text-indent: 2em;\n",
    "    }\n",
    "\n",
    "    .text_cell_render h5 {\n",
    "        font-weight: 300;\n",
    "        font-size: 14pt;\n",
    "        color: #4057A1;\n",
    "        font-style: italic;\n",
    "        margin-bottom: .5em;\n",
    "        margin-top: 0.5em;\n",
    "        display: block;\n",
    "    }\n",
    "    \n",
    "    .CodeMirror {\n",
    "        font-family: \"Source Code Pro\", source-code-pro, Consolas, monospace !important;\n",
    "        font-size: 10pt;\n",
    "        background:  #fffffe; /* #f0f8fb #e2eef9*/\n",
    "        border: 0px;\n",
    "    }\n",
    "    \n",
    "    .rendered_html {\n",
    "        margin-left: 120px;\n",
    "        \n",
    "    }\n",
    "\n",
    "    .rendered_html code {\n",
    "        font-family: \"Source Code Pro\", source-code-pro,Consolas,    monospace;\n",
    "        font-size: 85%;\n",
    "    }\n",
    "    \n",
    "   pre, code, kbd, samp { font-family: \"Source Code Pro\", source-code-pro, Consola, monospace; }\n",
    "    \n",
    "    .rendered_html p {\n",
    "        text-align: left;\n",
    "        color: #3B3B3B;\n",
    "        margin-bottom: .5em;\n",
    "\n",
    "    }\n",
    "\n",
    "       .rendered_html p+p { \n",
    "          text-indent: 1em;\n",
    "           margin-top: 0;\n",
    "       }\n",
    "    .rendered_html ol {\n",
    "        list-style: decimal;\n",
    "        /*margin: 1em 2em;*/\n",
    "    }\n",
    "\n",
    "    .rendered_html ol ol {\n",
    "        list-style: decimal;\n",
    "    }\n",
    "\n",
    "    .rendered_html ol ol ol {\n",
    "        list-style: decimal;\n",
    "    }\n",
    "\n",
    "    body{background-color:#f3f3f3;}\n",
    "\n",
    "    .rendered_html p.hangpar {\n",
    "        text-indent: 0;\n",
    "    }\n",
    "\n",
    "</style>\n",
    "<script type=\"text/javascript\" src=\"//use.typekit.net/glz2cja.js\"></script>\n",
    "<script type=\"text/javascript\">try{Typekit.load();}catch(e){}</script>"
   ]
  },
  {
   "cell_type": "markdown",
   "metadata": {},
   "source": [
    "# Some Linear Algebra with Cython"
   ]
  },
  {
   "cell_type": "markdown",
   "metadata": {},
   "source": [
    "Carl Vogel &nbsp;&nbsp;&nbsp;|&nbsp;&nbsp;&nbsp;<code>@slendrmeans</code>&nbsp;&nbsp;&nbsp;|&nbsp;&nbsp;&nbsp;February 2013"
   ]
  },
  {
   "cell_type": "markdown",
   "metadata": {},
   "source": [
    "## Introduction (Attention Conservation Notice)"
   ]
  },
  {
   "cell_type": "markdown",
   "metadata": {},
   "source": [
    "This notebook contains information that is new and useful. But the parts that are new are not useful, and the parts that are useful are not new. It exists because I wanted to experiment in Cython and in the IPython notebook. The code here is all but useless except for pedagogy. Virtually no one has any rightful business coding up their own linear algebra routines. And the mathematical and algorithmic content is elementary.\n",
    "\n",
    "Which is all useful for my purpose: when you try out new tools you want to do it on well-known problems. And the excessive verbiage and formulas give me an excuse to tinker with the notebooks typographical capabilities.\n",
    "\n",
    "As such this may be of no use to anyone besides the author. Consider yourself warned.\n",
    "\n",
    "Comments regarding my amateur Cython, or any other topic, are welcome."
   ]
  },
  {
   "cell_type": "markdown",
   "metadata": {},
   "source": [
    "## A linear system"
   ]
  },
  {
   "cell_type": "markdown",
   "metadata": {},
   "source": [
    "Our goal is to understand and, if possible, solve the system of $n$ linear equations\n",
    "\n",
    "$$\n",
    "\\begin{align}\n",
    "a_{00}\\,x_0 + a_{01}\\,x_1 + \\ldots + a_{0,n-1}\\,x_{n-1}   &= b_0 \\\\\\\n",
    "a_{10}\\,x_0  + a_{11}\\,x_1 + \\ldots + a_{1,n-1}\\,x_{n-1}   &= b_1 \\\\\\\n",
    "\\vdots &  \\\\\\\n",
    "a_{n-1,0}\\,x_0 + a_{n-1,1}\\,x_1 + \\ldots + a_{n-1,n-1}\\,x_{n-1} &= b_{n-1}\\ .\n",
    "\\end{align}\n",
    "$$\n",
    "\n",
    "In the system, the $a_{ij}$s and $b_i$s are known, while the $x_i$s are the unkown variables we wish to solve for. In other words, <span class=\"hiterm\">solving</span> the system means finding the values for the $x_i$s using the $a_{ij}$s and $b_i$s. \n",
    "\n",
    "Using matrix notation, we can write the system as\n",
    "\n",
    "$$\n",
    "\\begin{pmatrix}\n",
    "a_{00} & a_{01} & \\ldots & a_{0,n-1} \\\\\\\n",
    "a_{10} & a_{11} & \\ldots & a_{1,n-1} \\\\\\\n",
    "\\vdots &  &   \\ddots & \\vdots \\\\\\\n",
    "a_{n-1,0} & a_{n-1,1} & \\ldots & a_{n-1,n-1}\n",
    "\\end{pmatrix} \\,\n",
    "\\begin{pmatrix} x_0 \\\\\\ x_1 \\\\\\ \\vdots \\\\\\ x_{n-1}\\end{pmatrix}\n",
    "=\n",
    "\\begin{pmatrix} b_0 \\\\\\ b_1 \\\\\\ \\vdots \\\\\\ b_{n-1}\\end{pmatrix}\\ \n",
    "$$\n",
    "\n",
    "<p class = \"hangpar\">or $Ax = b$. In this form, a solution to the system is the vector $x$ that satisfies the equation.</p>\n",
    "\n",
    "\n",
    "\n",
    "\n"
   ]
  },
  {
   "cell_type": "markdown",
   "metadata": {},
   "source": [
    "----------------"
   ]
  },
  {
   "cell_type": "markdown",
   "metadata": {},
   "source": [
    "##### Exercise: Matrix multiplication in Cython"
   ]
  },
  {
   "cell_type": "markdown",
   "metadata": {},
   "source": [
    "To work with linear systems, we&#8217;ll want to be able to multiply matrices with vectors, like in the equation above, but also with other matrices.\n",
    "\n",
    "To use Cython in the notebook, we have to load the `cythonmagic` extension. We&#8217;ll also want to load numpy and scipy modules form, among other things, benchmarks for our Cython functions."
   ]
  },
  {
   "cell_type": "code",
   "execution_count": 3,
   "metadata": {
    "slideshow": {
     "slide_type": "-"
    }
   },
   "outputs": [],
   "source": [
    "%load_ext cythonmagic\n",
    "import numpy as np\n",
    "import scipy.linalg as la"
   ]
  },
  {
   "cell_type": "markdown",
   "metadata": {},
   "source": [
    "Using `%%cython` cell magic, we can write and compile a Cython module within a notebook cell.\n",
    "\n",
    "We want to be able to multiply a matrix $A$ by either a vector $x$, like above, or another matrix $B$. Unlike, say, C++, Cython does not allow use to overload a function by using different arguments. (As far as I know.) For example, we can&#8217;t define two versions of a function `matprod` that takes either one 2-D array and one 1-D array, or two 2-D arrays.\n",
    "\n",
    "But Cython is flexible, and lets us define functions where not all arguments are typed. So we&#8217;ll write a wrapper function `matprod` that has the second argument untyped. Then, based on whether the second argument is a vector or a matrix, dispatches to the appropriate C-like (typed) function."
   ]
  },
  {
   "cell_type": "code",
   "execution_count": 29,
   "metadata": {},
   "outputs": [
    {
     "name": "stdout",
     "output_type": "stream",
     "text": [
      "\n"
     ]
    }
   ],
   "source": [
    "%%cython\n",
    "cimport cython\n",
    "import numpy as np\n",
    "cimport numpy as np\n",
    "\n",
    "def matprod(np.ndarray[double, ndim = 2] A, B):\n",
    "    '''\n",
    "    Matrix-by-vector or matrix-by-matrix multiplication.\n",
    "\n",
    "    The arguments are dispatched to one of two functions\n",
    "    depending on whether B is a vector or a matrix.\n",
    "    '''\n",
    "    if B.ndim == 1:\n",
    "       # B is a vector\n",
    "       return matvecprod(A, B)\n",
    "    else:\n",
    "        # B is a matrix\n",
    "        return matmatprod(A, B)\n",
    "\n",
    "@cython.boundscheck(False)\n",
    "@cython.wraparound(False)\n",
    "cdef np.ndarray[double, ndim=2] matmatprod(\n",
    "    np.ndarray[double, ndim=2] A,\n",
    "    np.ndarray[double, ndim=2] B):\n",
    "    '''\n",
    "    Matrix-matrix multiplication.\n",
    "    '''\n",
    "    cdef: \n",
    "        int i, j, k\n",
    "        int A_n = A.shape[0]\n",
    "        int A_m = A.shape[1]\n",
    "        int B_n = B.shape[0]\n",
    "        int B_m = B.shape[1]\n",
    "        np.ndarray[double, ndim=2] C\n",
    "    \n",
    "    # Are matrices conformable?\n",
    "    assert A_m == B_n, \\\n",
    "        'Non-conformable shapes.'\n",
    "    \n",
    "    # Initialize the results matrix.\n",
    "    C = np.zeros((A_n, B_m))\n",
    "    for i in xrange(A_n):\n",
    "        for j in xrange(B_m):\n",
    "            for k in xrange(A_m):\n",
    "                C[i, j] += A[i, k] * B[k, j]\n",
    "    return C\n",
    "\n",
    "@cython.boundscheck(False)\n",
    "@cython.wraparound(False)\n",
    "cdef np.ndarray[double, ndim=1] matvecprod(\n",
    "    np.ndarray[double, ndim=2] A,\n",
    "    np.ndarray[double, ndim=1] b):\n",
    "    '''\n",
    "    Matrix-vector multiplication.\n",
    "    '''\n",
    "    cdef: \n",
    "        Py_ssize_t i, j, k\n",
    "        Py_ssize_t A_n = A.shape[0]\n",
    "        Py_ssize_t A_m = A.shape[1]\n",
    "        Py_ssize_t b_n = b.shape[0]\n",
    "        np.ndarray[double, ndim=1] c\n",
    "    \n",
    "    # Are matrices conformable?\n",
    "    assert A_m == b_n, \\\n",
    "        'Non-conformable shapes.'\n",
    "    \n",
    "    # Initialize the results matrix.\n",
    "    c = np.zeros(A_n)\n",
    "    for i in xrange(A_n):\n",
    "            for k in xrange(b_n):\n",
    "                c[i] += A[i, k] * b[k]\n",
    "    return c"
   ]
  },
  {
   "cell_type": "markdown",
   "metadata": {},
   "source": [
    "If the above compiles successfully, nothing should happen. Otherwise an output cell with a compilation error message and traceback will appear.\n",
    "\n",
    "For speed comparisons, the following is a pure Python version of matrix-matrix multiplication."
   ]
  },
  {
   "cell_type": "code",
   "execution_count": 6,
   "metadata": {},
   "outputs": [],
   "source": [
    "def pymatmatprod(A, B):\n",
    "    '''\n",
    "    Matrix-matrix multiplication\n",
    "    '''\n",
    "    A_n, A_m = A.shape\n",
    "    B_n, B_m = B.shape\n",
    "    assert A_m == B_n, \"Non-conformable shapes.\"\n",
    "    C = np.zeros((A_n, B_m))\n",
    "    for i in xrange(A_n):\n",
    "        for j in xrange(B_m):\n",
    "            for k in xrange(A_m):\n",
    "                C[i, j] += A[i, k] * B[k, j]\n",
    "    return C"
   ]
  },
  {
   "cell_type": "markdown",
   "metadata": {},
   "source": [
    "We create some small sample matrices to test the functions."
   ]
  },
  {
   "cell_type": "code",
   "execution_count": 12,
   "metadata": {},
   "outputs": [],
   "source": [
    "# A is 2x3\n",
    "A = np.array([[2.0, 0.25, -1.0], \n",
    "              [3.0, 0.0 ,  5.0]])\n",
    "# B is 3x2\n",
    "B = np.array([[-3.0,  0.5], \n",
    "              [ 2.0,  1.5], \n",
    "              [ 4.0, -4.0]])\n",
    "# C is 2x2\n",
    "C = np.array([[1.0,  1.5], \n",
    "              [2.5, -1.0]])\n",
    "# b is 3x1 (a vector)\n",
    "b = np.array([1.0, -2.0, 0.5])"
   ]
  },
  {
   "cell_type": "markdown",
   "metadata": {},
   "source": [
    "And check to see they give the same results."
   ]
  },
  {
   "cell_type": "code",
   "execution_count": 11,
   "metadata": {},
   "outputs": [
    {
     "name": "stdout",
     "output_type": "stream",
     "text": [
      "Cython:\n",
      "-------\n",
      "A x B =\n",
      "[[ -9.5     5.375]\n",
      " [ 11.    -18.5  ]] \n",
      "\n",
      "A x b =\n",
      "[ 1.   5.5] \n",
      "\n",
      "Numpy dot:\n",
      "----------\n",
      "A x B =\n",
      "[[ -9.5     5.375]\n",
      " [ 11.    -18.5  ]] \n",
      "\n",
      "A x b =\n",
      "[ 1.   5.5] \n",
      "\n",
      "Python loops:\n",
      "-------------\n",
      "A x B =\n",
      "[[ -9.5     5.375]\n",
      " [ 11.    -18.5  ]] \n",
      "\n"
     ]
    }
   ],
   "source": [
    "print 'Cython:'\n",
    "print '-------'\n",
    "print \"A x B =\\n\", matprod(A, B), \"\\n\"\n",
    "print \"A x b =\\n\", matprod(A, b), \"\\n\"\n",
    "print 'Numpy dot:'\n",
    "print '----------'\n",
    "print \"A x B =\\n\", np.dot(A, B), \"\\n\"\n",
    "print \"A x b =\\n\", np.dot(A, b), \"\\n\"\n",
    "print 'Python loops:'\n",
    "print '-------------'\n",
    "print \"A x B =\\n\", pymatmatprod(A, B), \"\\n\""
   ]
  },
  {
   "cell_type": "markdown",
   "metadata": {},
   "source": [
    "We want to make sure the function doesn't try to multiply non-conformable matrices. Without this check, depending on how we code the function, we might not get an error, but instead nonsense."
   ]
  },
  {
   "cell_type": "code",
   "execution_count": 12,
   "metadata": {},
   "outputs": [
    {
     "ename": "AssertionError",
     "evalue": "Non-conformable shapes.",
     "output_type": "error",
     "traceback": [
      "\u001b[0;31m---------------------------------------------------------------------------\u001b[0m\n\u001b[0;31mAssertionError\u001b[0m                            Traceback (most recent call last)",
      "\u001b[0;32m<ipython-input-12-01018821bc21>\u001b[0m in \u001b[0;36m<module>\u001b[0;34m()\u001b[0m\n\u001b[1;32m      1\u001b[0m \u001b[0;31m# Non-comformable matrices\u001b[0m\u001b[0;34m\u001b[0m\u001b[0;34m\u001b[0m\u001b[0m\n\u001b[0;32m----> 2\u001b[0;31m \u001b[0;32mprint\u001b[0m \u001b[0mmatprod\u001b[0m\u001b[0;34m(\u001b[0m\u001b[0mA\u001b[0m\u001b[0;34m,\u001b[0m \u001b[0mC\u001b[0m\u001b[0;34m)\u001b[0m\u001b[0;34m\u001b[0m\u001b[0m\n\u001b[0m",
      "\u001b[0;32m/Users/cvogel/.ipython/cython/_cython_magic_904b7331ce8a2a230f62508981f8c50c.so\u001b[0m in \u001b[0;36m_cython_magic_904b7331ce8a2a230f62508981f8c50c.matprod (/Users/cvogel/.ipython/cython/_cython_magic_904b7331ce8a2a230f62508981f8c50c.c:1184)\u001b[0;34m()\u001b[0m\n",
      "\u001b[0;32m/Users/cvogel/.ipython/cython/_cython_magic_904b7331ce8a2a230f62508981f8c50c.so\u001b[0m in \u001b[0;36m_cython_magic_904b7331ce8a2a230f62508981f8c50c.matmatprod (/Users/cvogel/.ipython/cython/_cython_magic_904b7331ce8a2a230f62508981f8c50c.c:1331)\u001b[0;34m()\u001b[0m\n",
      "\u001b[0;31mAssertionError\u001b[0m: Non-conformable shapes."
     ]
    }
   ],
   "source": [
    "# Non-comformable matrices\n",
    "print matprod(A, C) "
   ]
  },
  {
   "cell_type": "markdown",
   "metadata": {},
   "source": [
    "Now that it works correctly, we can check the speed of our Cython function. It appears to be a bit slower than numpy's `dot` function, but much faster than pure Python."
   ]
  },
  {
   "cell_type": "code",
   "execution_count": 14,
   "metadata": {},
   "outputs": [
    {
     "name": "stdout",
     "output_type": "stream",
     "text": [
      "1000000 loops, best of 3: 1.33 µs per loop\n"
     ]
    }
   ],
   "source": [
    "%timeit np.dot(A, B)"
   ]
  },
  {
   "cell_type": "code",
   "execution_count": 15,
   "metadata": {},
   "outputs": [
    {
     "name": "stdout",
     "output_type": "stream",
     "text": [
      "100000 loops, best of 3: 3.53 µs per loop\n"
     ]
    }
   ],
   "source": [
    "%timeit matprod(A, B)"
   ]
  },
  {
   "cell_type": "code",
   "execution_count": 16,
   "metadata": {},
   "outputs": [
    {
     "name": "stdout",
     "output_type": "stream",
     "text": [
      "10000 loops, best of 3: 23.3 µs per loop\n"
     ]
    }
   ],
   "source": [
    "%timeit pymatmatprod(A, B)"
   ]
  },
  {
   "cell_type": "markdown",
   "metadata": {},
   "source": [
    "-------------------------"
   ]
  },
  {
   "cell_type": "markdown",
   "metadata": {},
   "source": [
    "##### Note: Numpy arrays in Cython using buffers or MemoryViews"
   ]
  },
  {
   "cell_type": "markdown",
   "metadata": {},
   "source": [
    "In the functions above, we declared a variable to be a numpy array with, for example,\n",
    "\n",
    "    np.ndarray[double, ndim=2] x\n",
    "    \n",
    "This is an example of creating a Numpy array buffer. There is a newer method [recommended](http://docs.cython.org/src/userguide/memoryviews.html) in the Numpy documentation, using <span class='hiterm'>typed MemoryViews</span>. Using this method, we would have instead declared\n",
    "\n",
    "    double[:, :] x\n",
    "    \n",
    "or\n",
    "\n",
    "    double[:, ::1] x\n",
    "    \n",
    "The `::1` slice indicates that `x` is a C-contiguous array; i.e. its columns are one memory-location apart. This is a much simpler syntax than the array buffer declaration. MemoryViews are also supposed to be faster and more flexible than buffers. In my experience they are when working on larger arrays, but on smaller problems, there seems to be some overhead involved in creating MemoryViews and coercing them back to arrays. \n",
    "\n",
    "I&#8217;ll use the two notations interchangeably throughout."
   ]
  },
  {
   "cell_type": "markdown",
   "metadata": {},
   "source": [
    "-----------"
   ]
  },
  {
   "cell_type": "markdown",
   "metadata": {},
   "source": [
    "## Solution by matrix inversion"
   ]
  },
  {
   "cell_type": "markdown",
   "metadata": {},
   "source": [
    "The natural solution to the matrix equation $Ax = b$ is to find the <span class=\"hiterm\">inverse</span> of $A$, denoted $A^{-1}$. $\\ A^{-1}$ is the matrix that has the property $A^{-1}A = I$. Pre-multiplying both sides of the equation will then leave us with the solution $x = A^{-1}b$.\n",
    "\n",
    "It turns out, though, that computing $A^{-1}$ is expensive, and that there are more efficient ways of solving the system. As <a href=\"http://www.johndcook.com/blog/2010/01/19/dont-invert-that-matrix/\" target=\"new\">John Cook</a> says, &#8220;There is hardly ever a good reason to invert a matrix.&#8221; With that advice, we'll not spend effort on writing algorithms for computing matrix inverses.\n",
    "\n",
    "What is useful to know about $A^{-1}$ is that it only exists if the linear system has a unique solution. That is, if there is one and only one $x$ that solves $Ax = b.$ If $A$ has an inverse, it's called <span class=\"hiterm\">nonsingular</span>. \n",
    "\n",
    "Under what circumstances would $A$ *not* have an inverse?\n",
    "If one of the columns in $A$ can be calculated as a linear combination of the other columns, then $A$ will not have an inverse. To have an inverse, $\\,A$&#8217;s columns must be <span class=\"hiterm\">linearly independent</span>. \n",
    "\n",
    "For example, let&#8217;s look at the linear system\n",
    "\n",
    "$$\n",
    "\\begin{pmatrix}\n",
    "2  & 3  &  1 \\\\\\\n",
    "0.5  & 2  & -1 \\\\\\\n",
    "-1 & 5 &  -7\n",
    "\\end{pmatrix}\\,\n",
    "\\begin{pmatrix}\n",
    "x_0 \\\\\\ x_1 \\\\\\ x_2\n",
    "\\end{pmatrix} =\n",
    "\\begin{pmatrix}\n",
    "10 \\\\\\ -3 \\\\\\ 2\n",
    "\\end{pmatrix}\\\n",
    "$$\n",
    "\n",
    "Here the third column, $A_{\\cdot2}$ is equal to $2\\times A_{\\cdot0} - 1\\times A_{\\cdot 1}$, so the columns of this matrix are not linearly independent. This relationship means that $x_2 = 2x_0 - x_1$, so $x_2$ is not an independent variable, and we really only have two variables in three equations. There will be an infinite number of combinations of $x_0$ and $x_1$ that solve the system.\n",
    "\n",
    "When the columns of $A$ are not linearly independent, and $A$ has no inverse, it&#8217;s called <span class=\"hiterm\">singular</span> or <span class=\"hiterm\">degenerate</span>."
   ]
  },
  {
   "cell_type": "markdown",
   "metadata": {},
   "source": [
    "## The determinant of a matrix"
   ]
  },
  {
   "cell_type": "markdown",
   "metadata": {},
   "source": [
    "In the example above, it was easy to see that the columns of the matrix were not linearly independent. For larger matrices, a more reliable method of detecting singular matrices is required.\n",
    "\n",
    "The <span class=\"hiterm\">determinant</span> of a matrix&#8212;a real number denoted $\\det(A)$&#8212;is an attribute of a square matrix that can be used to tell whether a matrix is singular, and therefore whether the linear system has a solution.\n",
    "\n",
    "The check is straightforward: when the determinant of a matrix is zero, the matrix is singular, and no solution exists. We can check this with the singular matrix in the example above, using numpy&#8217;s `det` function.\n",
    "    "
   ]
  },
  {
   "cell_type": "code",
   "execution_count": 146,
   "metadata": {},
   "outputs": [
    {
     "name": "stdout",
     "output_type": "stream",
     "text": [
      "The determinant is 0.0\n"
     ]
    }
   ],
   "source": [
    "A = np.array([[  2, 3,  1],\n",
    "              [0.5, 2, -1],\n",
    "              [ -1, 5, -7]])\n",
    "\n",
    "# A is singular, so it's determinant should be zero.\n",
    "print \"The determinant is\", np.linalg.det(A)"
   ]
  },
  {
   "cell_type": "markdown",
   "metadata": {},
   "source": [
    "<p></p>    \n",
    "Calculating the determinant, though, is not so easy.\n",
    "    \n",
    "Let&#8217;s start with a trivial definition. We&#8217;ll say that the determinant of a $1\\times1$ matrix $A$ (a scalar), is simply equal to $A$. So, for example, $\\det(4) = 4$.\n",
    "\n",
    "The well-known formula for the determinant of a $2x2$ matrix\n",
    "\n",
    "$$\n",
    "A =\n",
    "\\begin{pmatrix}\n",
    "a & b \\\\\\\n",
    "c & d \n",
    "\\end{pmatrix}\n",
    "$$\n",
    "\n",
    "<p class=\"hangpar\">is $\\det(A) = ad - bc$. We can break this formula down and generalize it to larger matrices.</p>\n",
    "\n",
    "First, let&#8217;s define the $(i, j)$ <span class=\"hiterm\"> minor</span> of $A$, denoted $A_{ij}$ as the matrix that results from removing row $i$ and column $j$ from $A$. For example, the (0, 0) minor of the $2\\times2$ matrix above is:\n",
    "\n",
    "$$\n",
    "\\begin{pmatrix}\n",
    "\\cdot & \\cdot \\\\\\\n",
    "\\cdot & d\n",
    "\\end{pmatrix} = d.\n",
    "$$\n",
    "\n",
    "Similarly the (0, 1) minor is:\n",
    "    \n",
    "$$\n",
    "\\begin{pmatrix}\n",
    "\\cdot & \\cdot \\\\\\\n",
    "c & \\cdot\n",
    "\\end{pmatrix} = c.\n",
    "$$    \n",
    "\n",
    "We can now re-write the formula for the determinant as\n",
    "\n",
    "$$\n",
    "\\det(A) = a_{00}\\det(A_{00}) - a_{01}\\det(A_{01})\\ ,\n",
    "$$\n",
    "\n",
    "<p class=\"hangpar\">since the the minors $A_{0i}, i = 0, 1$ are scalars so are equal to their determinants by our definition above. Even better, we can take care of the minus sign by noting that</p>\n",
    "\n",
    "$$\n",
    "\\det(A) = (-1^0)\\;a_{00}\\det(A_{00}) + (-1^1)\\;a_{01}\\det(A_{01})\\ .\n",
    "$$\n",
    "\n",
    "Everything in this formula can now be generalized to the determinant of an arbitrary $n\\times n$ matrix.\n",
    "\n",
    "$$\n",
    "\\det(A) = \\sum_{i=0}^{n-1}(-1^i)\\;a_{0i}\\det(A_{0i})\n",
    "$$\n",
    "\n",
    "Our choice to move across row 0 of the matrix was arbitrary; we could have chosen to go across any row or down any column of the matrix, as long as we obtained the associated minor and computed the correct sign on each term. For example, we could have used column 2, in which case we would have had:\n",
    "    \n",
    "$$\n",
    "\\det(A) = \\sum_{i=0}^{n-1}(-1^{i+2})\\;a_{i2}\\det(A_{i2})\n",
    "$$\n",
    "\n",
    "This flexibility can often come in handy. For example, if a row or column has a lot of zeros in it, we can exploit that to cut down on the number of calculations needed since terms in the sum get zeroed out.\n",
    "\n",
    "Lastly, notice that these definitions are <span class=\"hiterm\">recursive</span>. That is, to find the determinant of an $n\\times n$ matrix $A$, we have to find the determinants of the $(n-1)\\times(n-1)$ minors $A_{0i}$ (of which there are $n$). To find the determinants of *these* matrices, we have to compute the determinants of their $(n-2)\\times(n-2)$ minors (of which there are $n-1$). So we are now computing $n\\times(n-1)$ determinants of $(n-2)\\times(n-2)$ matrices. This continues all the way down until the minor matrices are scalars, at which point we know the determinants by definition.\n",
    "\n",
    "The recursive equation gives us a simple and elegant way to express all this computation. Furthermore we can write our code using this recursive equation directly, by writing a `determinant` function that calls itself. But as is often the case this elegance comes at a cost, and we&#8217;ll find that this recursive method gets very computationally expensive."
   ]
  },
  {
   "cell_type": "markdown",
   "metadata": {},
   "source": [
    "-------------------"
   ]
  },
  {
   "cell_type": "markdown",
   "metadata": {},
   "source": [
    "##### Exercise: Computing determinants with recursive functions"
   ]
  },
  {
   "cell_type": "markdown",
   "metadata": {},
   "source": [
    "The following code implements the recursive algorithm for calculating the determinant. Note the compiler flag after `%%cython`; necessary since we'll use a function from C's `math` library."
   ]
  },
  {
   "cell_type": "code",
   "execution_count": 27,
   "metadata": {},
   "outputs": [],
   "source": [
    "%%cython -lm \n",
    "# Note the lm flag, used to import the C math library.\n",
    "import cython\n",
    "import numpy as np\n",
    "cimport numpy as np\n",
    "# Using C's power function instead of Python, hence the\n",
    "# math library link flag above.\n",
    "from libc.math cimport pow\n",
    "\n",
    "@cython.boundscheck(False)\n",
    "@cython.wraparound(False)\n",
    "cpdef double determinant(double[:, :] M):\n",
    "    '''\n",
    "    Compute the determinant of a square nxn matrix using\n",
    "    the recursive formula:\n",
    " \n",
    "        det(M) = sum_{i=0}^{n-1} (-1^i)*M[0,i]*det(M_minor(0,i))\n",
    "\n",
    "    where M_minor(0,i) is the (n-1)x(n-1) matrix formed by\n",
    "    removing row 0 and column i from M.\n",
    "    '''\n",
    "    \n",
    "    assert M.shape[0] == M.shape[1], 'Matrix is not square.'\n",
    "    \n",
    "    cdef int i, j\n",
    "    cdef int n = M.shape[0]\n",
    "    cdef double det = 0.0\n",
    "    cdef double coef\n",
    "    cdef double[:, :] M_minor = np.empty((n-1, n-1))\n",
    "    \n",
    "    if n == 1:\n",
    "        # If M is a scalar (1x1) just return it\n",
    "        return M[0, 0]\n",
    "    else:\n",
    "        # If M is nxn, then get its (n-1)x(n-1) minors\n",
    "        # (one for each of M's n columns) and compute \n",
    "        # their determinants and add them to the summation.\n",
    "        for j in xrange(n):\n",
    "            coef = pow(-1, j) * M[0, j]\n",
    "            _get_minor(M, M_minor, 0, j)\n",
    "            det += coef * determinant(M_minor)\n",
    "        return det\n",
    "\n",
    "@cython.boundscheck(False)\n",
    "@cython.wraparound(False)\n",
    "cdef void _get_minor(double[:, :] M, double[:, :] M_minor, \n",
    "                    int row, int col):\n",
    "    '''\n",
    "    Return the minor of a matrix, by removing a specified\n",
    "    row and column\n",
    "\n",
    "    If M is nxn, then _get_minor(M, row, col) will fill in\n",
    "    the (n-1)x(n-1) matrix M_minor by removing row `row` \n",
    "    and column `col` from M.\n",
    "    '''\n",
    "    cdef:\n",
    "        int n = M.shape[0]\n",
    "        int i_to, j_to, i_from, j_from\n",
    "  \n",
    "        \n",
    "    # _from indicates the index of the original\n",
    "    # matrix M, _to, indicates the index of the\n",
    "    # result matrix M_minor.\n",
    "    i_from = 0\n",
    "    for i_to in xrange(n-1):\n",
    "        if (i_to == row): \n",
    "            # This is the row to exclude from the\n",
    "            # minor, so skip it.\n",
    "            i_from += 1\n",
    "        j_from = 0\n",
    "        for j_to in xrange(n-1):\n",
    "            if (j_to == col): \n",
    "            # This is the column to exclude from the\n",
    "            # minor, so skip it.\n",
    "                j_from += 1\n",
    "            \n",
    "            M_minor[i_to, j_to] = M[i_from, j_from]\n",
    "            j_from += 1\n",
    "        \n",
    "        i_from += 1"
   ]
  },
  {
   "cell_type": "markdown",
   "metadata": {},
   "source": [
    "Testing the function on a sample matrix, suggests it&#8217;s correctly coded."
   ]
  },
  {
   "cell_type": "code",
   "execution_count": 16,
   "metadata": {},
   "outputs": [
    {
     "name": "stdout",
     "output_type": "stream",
     "text": [
      "Numpy:  37.5\n",
      "Cython:  37.5\n"
     ]
    }
   ],
   "source": [
    "\n",
    "# A is 3x3\n",
    "A = np.array([[ 2, -1,   4],\n",
    "              [-1,  3, 0.5],\n",
    "              [ 5, -9,  11]])\n",
    "\n",
    "print 'Numpy: ', np.linalg.det(A)\n",
    "print 'Cython: ', determinant(A)"
   ]
  },
  {
   "cell_type": "markdown",
   "metadata": {},
   "source": [
    "And it is even quite fast on a $3\\times3$ matrix."
   ]
  },
  {
   "cell_type": "code",
   "execution_count": 19,
   "metadata": {},
   "outputs": [
    {
     "name": "stdout",
     "output_type": "stream",
     "text": [
      "Numpy time:\n",
      "10000 loops, best of 3: 62.7 µs per loop\n",
      "Recursive Cython time\n",
      "10000 loops, best of 3: 26.1 µs per loop\n"
     ]
    }
   ],
   "source": [
    "print 'Numpy time:'\n",
    "%timeit np.linalg.det(A)\n",
    "print 'Recursive Cython time'\n",
    "%timeit determinant(A)"
   ]
  },
  {
   "cell_type": "markdown",
   "metadata": {},
   "source": [
    "But&#8212;as feared&#8212;it is deadly slow on even just a somewhat larger, $10\\times 10$ matrix."
   ]
  },
  {
   "cell_type": "code",
   "execution_count": 20,
   "metadata": {},
   "outputs": [
    {
     "name": "stdout",
     "output_type": "stream",
     "text": [
      "Numpy time:\n",
      "10000 loops, best of 3: 65.6 µs per loop\n",
      "Recursive Cython time\n",
      "1 loops, best of 3: 16.2 s per loop\n"
     ]
    }
   ],
   "source": [
    "# B is 10x10\n",
    "print 'Numpy time:'\n",
    "B = np.random.randn(100).reshape(10, 10)\n",
    "%timeit np.linalg.det(B)\n",
    "print 'Recursive Cython time'\n",
    "%timeit determinant(B)"
   ]
  },
  {
   "cell_type": "markdown",
   "metadata": {},
   "source": [
    "---------------------------"
   ]
  },
  {
   "cell_type": "markdown",
   "metadata": {},
   "source": [
    "## Linear systems with triangular matrices"
   ]
  },
  {
   "cell_type": "markdown",
   "metadata": {},
   "source": [
    "At this point, the elegance of mathematics has been thwarted by the dirty business of computing. We would like to know whether a linear system is solvable, which we can do by calculating it&#8217;s determinant. But the mathematical formula we have derived for it computes terribly. Even if we could compute the determinant and find the system to be solvable, we have been warned against using the algebraically sensible method of matrix inversion to solve it.\n",
    "\n",
    "Let&#8217;s go down a new road. Our system, once more, is:\n",
    "\n",
    "$$\n",
    "\\begin{pmatrix}\n",
    "a_{00} & a_{01} & \\ldots & a_{0,n-1} \\\\\\\n",
    "a_{10} & a_{11} & \\ldots & a_{1,n-1} \\\\\\\n",
    "\\vdots &  &   \\ddots & \\vdots \\\\\\\n",
    "a_{n-1,0} & a_{n-1,1} & \\ldots & a_{n-1,n-1}\n",
    "\\end{pmatrix} \\,\n",
    "\\begin{pmatrix} x_0 \\\\\\ x_1 \\\\\\ \\vdots \\\\\\ x_{n-1}\\end{pmatrix}\n",
    "=\n",
    "\\begin{pmatrix} b_0 \\\\\\ b_1 \\\\\\ \\vdots \\\\\\ b_{n-1}\\end{pmatrix}\\ \n",
    "$$\n",
    "\n",
    "But imagine that our system was of the form:\n",
    "    \n",
    "$$\n",
    "\\begin{pmatrix}\n",
    "l_{00} & 0 & 0 & \\ldots & 0 \\\\\\\n",
    "l_{10} & l_{11} & 0 & \\ldots & 0 \\\\\\\n",
    "\\vdots &  &  & \\ddots & \\vdots\\\\\\\n",
    "l_{n-1,0} & l_{n-1,1} & l_{n-1,2} & \\ldots & l_{n-1,n-1}\n",
    "\\end{pmatrix}\\,\n",
    "\\begin{pmatrix} y_0 \\\\\\ y_1 \\\\\\ \\vdots \\\\\\ y_{n-1}\\end{pmatrix}\n",
    "=\n",
    "\\begin{pmatrix} c_0 \\\\\\ c_1 \\\\\\ \\vdots \\\\\\ c_{n-1}\\end{pmatrix}\\ \n",
    "$$\n",
    "\n",
    "<p class=\"hangpar\">or $Ly = c$. The matrix $L$ is <span class=\"hiterm\">lower triangular</span>, which means all the elements above its diagonal are zero.</p>\n",
    "\n",
    "This is a simple system to solve. The first row gives us the value of $x_0$; once we have that, substituting it into the second row gives us $x_1$. We can then roll this process down to solve for a new variable in each row until we&#8217;ve solve the whole system. This process is called <span class=\"hiterm\">forward substitution</span>. The formula for any $y_i$ in the system above is \n",
    "\n",
    "$$\n",
    "y_i = \\frac{1}{l_{ii}}\\left(c_i - \\sum_{k=0}^{i-1}l_{ik}\\,y_k\\right),\n",
    "$$\n",
    "\n",
    "<p class=\"hangpar\">which only depends on the previous values of $y\\,$: $y_{i-1}, y_{i-2}, \\ldots, y_0$.</p>\n",
    "\n",
    "\n",
    "The process, of course, is just as simple with an <span class=\"hiterm\">upper triangular</span> matrix:\n",
    "    \n",
    "$$\n",
    "\\begin{pmatrix}\n",
    "u_{01} & u_{11} & \\ldots & u_{0, n-2} & u_{0,n-1} \\\\\\\n",
    "0 & u_{11} & \\ldots & u_{1, n-2}& u_{1,n-1} \\\\\\\n",
    "\\vdots &  & \\ddots &  &\\vdots\\\\\\\n",
    "0 & 0 & \\ldots & 0 & u_{n-1,n-1}\n",
    "\\end{pmatrix}\\,\n",
    "\\begin{pmatrix} y_0 \\\\\\ y_1 \\\\\\ \\vdots \\\\\\ y_{n-1}\\end{pmatrix}\n",
    "=\n",
    "\\begin{pmatrix} c_0 \\\\\\ c_1 \\\\\\ \\vdots \\\\\\ c_{n-1}\\end{pmatrix}\\ \n",
    "$$\n",
    "\n",
    "<p class=\"hangpar\">or $Uy = c$. Here we would simply move up the rows, substituting and solving for one new variable each time; a process called, unsurprisingly, <span class=\"hiterm\">backwards substitution</span>.</p>"
   ]
  },
  {
   "cell_type": "markdown",
   "metadata": {},
   "source": [
    "### Determinants of triangular matrices"
   ]
  },
  {
   "cell_type": "markdown",
   "metadata": {},
   "source": [
    "Another convenient property of triangular matrices is that their determinants are just the products of their diagonal entries. This is easy to prove using the recursive determinant formula defined above. For a lower triangular matrix, just take the determinant across the top row. Only the first term is non-zero, so we have\n",
    "\n",
    "$$\n",
    "\\det(L) = l_{00}\\det(L_{00}).\n",
    "$$\n",
    "\n",
    "The minor $L_{00}$ is just another lower triangular matrix, so its determinant is\n",
    "\n",
    "$$\n",
    "\\det(L_{00}) = l_{11}\\det(L_{00_{00}}),\n",
    "$$\n",
    "\n",
    "<p class = \"hangpar\">giving us</p>\n",
    "$$\n",
    "\\det(L) = l_{00}\\cdot l_{11}\\det(L_{00_{00}}).\n",
    "$$\n",
    "\n",
    "We can imagine proceding down this route, substituting minors, until all that remains is the product $\\det(L) = l_{00}\\cdot l_{11}\\cdots l_{n-1,n-1}\\,.$\n",
    "\n",
    "The process is the same for an upper triangular matrix. If we take the determinant down the first column, we'll find each subsequent minor matrix in the recursion is also an upper triangular matrix, so it&#8217;s determinant is also just the product of its diagonals, $u_{00}\\cdot u_{11}\\cdots u_{n-1, n-1}$.\n",
    "\n",
    "The implication of this is that a triangular matrix is non-singular or invertible so long as none of its diagonal elements are zero. This makes intuitive sense if you imagine proceeding through each step of forward or backward substitution&#8212;a zero on the diagonal would break the chain of sequential subsitutions."
   ]
  },
  {
   "cell_type": "markdown",
   "metadata": {},
   "source": [
    "---------------"
   ]
  },
  {
   "cell_type": "markdown",
   "metadata": {},
   "source": [
    "##### Exercise: Coding forward- and backward-substitution solution methods"
   ]
  },
  {
   "cell_type": "markdown",
   "metadata": {},
   "source": [
    "The forward and backward substitution algorithms are straightforward to code. Below are two functions, expecting either a lower or upper triangular matrix, that solve the respective system."
   ]
  },
  {
   "cell_type": "code",
   "execution_count": 62,
   "metadata": {},
   "outputs": [],
   "source": [
    "%%cython -lm\n",
    "import cython\n",
    "import numpy as np\n",
    "cimport numpy as np\n",
    "from libc.math cimport fabs\n",
    "\n",
    "@cython.boundscheck(False)\n",
    "@cython.wraparound(False)\n",
    "@cython.cdivision(True)\n",
    "cpdef np.ndarray[double, ndim=1] forward_sub_solve( \n",
    "    np.ndarray[double, ndim=2] L, \n",
    "    np.ndarray[double, ndim=1] b):\n",
    "    ''' \n",
    "    Solve, by forward substition, the system Lx = b, where\n",
    "    L is a lower triangular matrix.\n",
    "    \n",
    "    Note that the code does not check whether L is lower\n",
    "    triangular. Calling the function with an arbitrary\n",
    "    '''\n",
    "    \n",
    "    assert L.shape[1] == b.shape[0], \\\n",
    "        'Matrix and vector are incompatible shapes.'\n",
    "    assert fabs(L[0, 0]) >= 10e-16, \\\n",
    "        'Zero element on diagonal.'\n",
    "    \n",
    "    # No. of variables to solve\n",
    "    cdef int n = b.shape[0]\n",
    "    \n",
    "    # Loop indices\n",
    "    cdef int i, k\n",
    "        \n",
    "    # Initialize the solution vector\n",
    "    cdef np.ndarray[double, ndim=1] y = np.zeros(b.shape[0])\n",
    "    y[0] = b[0] / L[0,0] \n",
    "\n",
    "    cdef double sum_term = 0.0\n",
    "    for i in xrange(1, n):\n",
    "        if fabs(L[i, i]) <= 10e-16:\n",
    "            raise ValueError('Zero element on diagonal.')\n",
    "        sum_term = 0.0\n",
    "        for k in xrange(0, i):\n",
    "            sum_term += L[i, k] * y[k]\n",
    "        y[i] = (b[i] - sum_term) / L[i, i]\n",
    "        \n",
    "    return y\n",
    "\n",
    "cpdef np.ndarray[double, ndim=2] backward_sub_solve(\n",
    "    np.ndarray[double, ndim=2] U,\n",
    "    np.ndarray[double, ndim=1] b):\n",
    "    ''' \n",
    "    Solve, by backward substition, the system Ux = b, where\n",
    "    U is an upper triangular matrix.\n",
    "    \n",
    "    Note that the code does not check whether U is upper\n",
    "    triangular. Calling the function with an arbitrary\n",
    "    square matrix will result in nonsense.\n",
    "    '''\n",
    "    assert U.shape[1] == b.shape[0], \\\n",
    "        'Matrix and vector are incompatible shapes.'\n",
    "    assert fabs(U[0, 0]) >= 10e-16, \\\n",
    "        'Zero element on diagonal.'\n",
    "    \n",
    "    # No. of variables to solve\n",
    "    cdef int n = b.shape[0]\n",
    "    \n",
    "    # Loop indices\n",
    "    cdef int i, k\n",
    "        \n",
    "    # Initialize the solution vector\n",
    "    cdef np.ndarray[double, ndim=1] y = np.zeros(b.shape[0])\n",
    "    y[n-1] = b[n-1] / U[n-1, n-1] \n",
    "\n",
    "    cdef double sum_term = 0.0\n",
    "    for i in xrange(n-2, -1, -1):\n",
    "        if fabs(U[i, i]) <= 10e-16:\n",
    "            raise ValueError('Zero element on diagonal.')\n",
    "        sum_term = 0.0\n",
    "        for k in xrange(i+1, n):\n",
    "            sum_term += U[i, k] * y[k]\n",
    "        y[i] = (b[i] - sum_term) / U[i,i]\n",
    "    \n",
    "    return y"
   ]
  },
  {
   "cell_type": "markdown",
   "metadata": {},
   "source": [
    "The functions give identical results to numpy's `solve` function on some sample triangular matrices."
   ]
  },
  {
   "cell_type": "code",
   "execution_count": 63,
   "metadata": {},
   "outputs": [
    {
     "name": "stdout",
     "output_type": "stream",
     "text": [
      "Cython (forward): [-0.5        -1.91666667  0.36458333]\n",
      "Numpy (forward):  [-0.5        -1.91666667  0.36458333]\n",
      "Cython (backward): [-15.  -2.   2.]\n",
      "Numpy (backward):  [-15.  -2.   2.]\n"
     ]
    }
   ],
   "source": [
    "# L is 3x3 lower-triangular\n",
    "L = np.array([[  2,  0, 0],\n",
    "             [1.5,  -3, 0],\n",
    "             [ -5, 0.5, 4]])\n",
    "\n",
    "# U is 3x3 upper-triangular\n",
    "U = np.array([[ -1,    3,  -5],\n",
    "              [  0, -0.5,   2],\n",
    "              [  0,    0, 1.5]])\n",
    "\n",
    "b = np.array([-1., 5., 3.])\n",
    "\n",
    "print 'Cython (forward):', forward_sub_solve(L, b)\n",
    "print 'Numpy (forward): ', np.linalg.solve(L, b)\n",
    "\n",
    "print 'Cython (backward):', backward_sub_solve(U, b)\n",
    "print 'Numpy (backward): ', np.linalg.solve(U, b)\n"
   ]
  },
  {
   "cell_type": "markdown",
   "metadata": {},
   "source": [
    "Forward and backward substitution are quite fast. Here they're compared to numpy's `solve` function, which isn't quite fair, since the latter is more general. But it gives us a frame of reference."
   ]
  },
  {
   "cell_type": "code",
   "execution_count": 64,
   "metadata": {},
   "outputs": [
    {
     "name": "stdout",
     "output_type": "stream",
     "text": [
      "Numpy solve:\n",
      "10000 loops, best of 3: 26.2 µs per loop\n",
      "Cython forward substitution\n",
      "100000 loops, best of 3: 4.32 µs per loop\n",
      "Numpy solve:\n",
      "10000 loops, best of 3: 26.2 µs per loop\n",
      "Cython backwards substitution\n",
      "100000 loops, best of 3: 4.69 µs per loop\n"
     ]
    }
   ],
   "source": [
    "print 'Numpy solve:'\n",
    "%timeit np.linalg.solve(L, b)\n",
    "print 'Cython forward substitution'\n",
    "%timeit forward_sub_solve(L, b)\n",
    "print 'Numpy solve:'\n",
    "%timeit np.linalg.solve(U, b)\n",
    "print 'Cython backwards substitution'\n",
    "%timeit backward_sub_solve(U, b)"
   ]
  },
  {
   "cell_type": "markdown",
   "metadata": {},
   "source": [
    "Let's also time the function on a large, $1000\\times 1000$ matrix, to make sure its performance scales."
   ]
  },
  {
   "cell_type": "code",
   "execution_count": 66,
   "metadata": {},
   "outputs": [
    {
     "name": "stdout",
     "output_type": "stream",
     "text": [
      "1000 loops, best of 3: 452 µs per loop\n"
     ]
    }
   ],
   "source": [
    "L = np.random.randn(1e6).reshape((1e3,1e3))\n",
    "cond = np.subtract.outer(np.arange(1e3), np.arange(1e3))\n",
    "L[cond < 0] = 0.\n",
    "b = np.random.randn(1e3)\n",
    "\n",
    "%timeit forward_sub_solve(L, b)"
   ]
  },
  {
   "cell_type": "markdown",
   "metadata": {},
   "source": [
    "----------------"
   ]
  },
  {
   "cell_type": "markdown",
   "metadata": {},
   "source": [
    "## The LU(P) decomposition"
   ]
  },
  {
   "cell_type": "markdown",
   "metadata": {},
   "source": [
    "We&#8217;ve established that triangular systems are easy to solve and can be implemented in fast code. This is fortunate, becuase it turns out that any square matrix can be represented as the product of a lower and an upper triangular matrix. That is,\n",
    "\n",
    "$$\n",
    "A = LU\\,.\n",
    "$$\n",
    "\n",
    "This representation is called the <span class='hiterm'>LU decomposition</span> of $A$. Using this decomposition, the linear system $Ax = b$ can be represented as\n",
    "\n",
    "$$\n",
    "\\begin{align}\n",
    "Ax &= b\\\\\\\n",
    "LUx &= b\\\\\\\n",
    "Ly  &= b\\,,\n",
    "\\end{align}\n",
    "$$\n",
    "\n",
    "<p class='hangpar'>where $y \\equiv Ux$. We can easily solve for $y$ using forward substitution. Having done that, we have</p>\n",
    "\n",
    "$$\n",
    "Ux = y\\,,\n",
    "$$\n",
    "\n",
    "<p class='hangpar'>and we can now solve for $x$ by forward substituion.</p>\n",
    "\n",
    "The algorithm&#8212;actually there is more than one&#8212;to find $L$ and $U$ is not complicated. It's easiest to see working through an example. Consider the $3\\times 3$ matrix\n",
    "$$\n",
    "A = \n",
    "\\begin{pmatrix}\n",
    "2 & -1 & 4 \\\\\\\n",
    "-1 & 3 & \\frac{1}{2} \\\\\\\n",
    "5 & -9 & 11\n",
    "\\end{pmatrix}\\,.\n",
    "$$\n",
    "\n",
    "We initialize $U = A$, and $L = I$. Then we proceed to set the sub-diagonal element of U to zero using <span class='hiterm'>gaussian elimination</span>. In the first step, we'll remove the sub-diagonal entries in the first column of $U$. There is a separate elimination for each row. To eliminate $u_{10}$ we multiply each entry in the first row by $\\frac{u_{10}}{u_{00}} = -\\frac{1}{2}$ and substract it from the second row. That is $u_{1j} \\rightarrow u_{1j} + \\frac{1}{2} u_{0j}$ for $j = 0,\\ldots,2$.\n",
    "\n",
    "To eliminate $u_{20}$ we similarly substract the first rows times $\\frac{u_{20}}{u_{00}} = \\frac{5}{2}$ from the third row.\n",
    "\n",
    "We represent these elimination steps in $L$ by setting $l_{10}$ to $-\\frac{1}{2}$ and $l_{20}$ to $\\frac{5}{2}$.\n",
    "\n",
    "This step leaves us with\n",
    "\n",
    "$$\n",
    "L = \\begin{pmatrix}\n",
    "1 & 0 & 0 \\\\\\\n",
    "-\\frac{1}{2} & 1 & 0 \\\\\\\n",
    "\\frac{5}{2} & 0 & 1 \n",
    "\\end{pmatrix}\n",
    "$$\n",
    "and\n",
    "\n",
    "$$\n",
    "U =\n",
    "\\begin{pmatrix}\n",
    "2 & -1 & 4 \\\\\\\n",
    "0 & \\frac{5}{2} & \\frac{5}{2} \\\\\\\n",
    "0 & -\\frac{13}{2} & 1\\end{pmatrix}\\,.\n",
    "$$\n",
    "\n",
    "The next step repeats the first, but for the second column of $U$. Here we only need to eliminate one sub-diagonal entry, $u_{21}$. We can do this by subtracting the second row times $\\frac{u_{21}}{u_{11}} = -\\frac{13}{5}$. Like before, we set $l_{21}$ to $-\\frac{13}{5}$ to represent the elimination. We now have\n",
    "\n",
    "\n",
    "\n",
    "$$\n",
    "L = \\begin{pmatrix}\n",
    "1 & 0 & 0 \\\\\\\n",
    "-\\frac{1}{2} & 1 & 0 \\\\\\\n",
    "\\frac{5}{2} & -\\frac{13}{5} & 1 \n",
    "\\end{pmatrix}\n",
    "$$\n",
    "and\n",
    "$$\n",
    "U =\n",
    "\\begin{pmatrix}\n",
    "2 & -1 & 4 \\\\\\\n",
    "0 & \\frac{5}{2} & \\frac{5}{2} \\\\\\\n",
    "0 & 0 & \\frac{15}{2} \n",
    "\\end{pmatrix}\\,.\n",
    "$$\n",
    "\n",
    "This completes the process since $U$ is now upper triangular and $L$ is lower triangular.\n",
    "\n",
    "Let&#8217;s test that our calculations are correct. If we did everything correctly, we should recover $A$ from $LU$."
   ]
  },
  {
   "cell_type": "code",
   "execution_count": 53,
   "metadata": {},
   "outputs": [
    {
     "name": "stdout",
     "output_type": "stream",
     "text": [
      "A = LU, OK!\n"
     ]
    }
   ],
   "source": [
    "A = np.array([[2.,  -1., 4.],\n",
    "              [-1.,  3., 0.5],\n",
    "              [ 5., -9., 11.]])\n",
    "\n",
    "L = np.array([[1, 0, 0],\n",
    "              [-1./2, 1, 0],\n",
    "              [5/2., -13./5, 1]])\n",
    "\n",
    "U = np.array([[2, -1, 4],\n",
    "              [0, 5./2, 5./2],\n",
    "              [0, 0, 15./2]])\n",
    "\n",
    "if np.all(np.abs(matprod(L, U) - A) < 10e-14):\n",
    "    print 'A = LU, OK!'\n",
    "else:\n",
    "    print 'A != LU, Not OK!'"
   ]
  },
  {
   "cell_type": "markdown",
   "metadata": {},
   "source": [
    "### The LU decompositon with pivoting"
   ]
  },
  {
   "cell_type": "markdown",
   "metadata": {},
   "source": [
    "In practice, the LU decomposition algorithm outlined above can sometimes be numerically unstable. At each step, $k$, of the algorithm, we calculate $\\frac{u_{ik}}{u_{kk}}$ for $i > k$. If any of the diagonals, $u_{kk}$ (called the <span class='hiterm'>pivots</span> are near zero, this calculation can overflow.\n",
    "\n",
    "To avoid this, an extra step, called <span class='hiterm'>pivoting</span> is added to the algorithm. At each step $k$, before performing the gaussian elimination, we swap the rows of $U$ to get the largest possible magnitude for $u_{kk}$. This helps avoid the overflow problem.\n",
    "\n",
    "In the example above, we start with\n",
    "\n",
    "$$\n",
    "U = \n",
    "\\begin{pmatrix}\n",
    "2 & -1 & 4 \\\\\\\n",
    "-1 & 3 & \\frac{1}{2} \\\\\\\n",
    "5 & -9 & 11\n",
    "\\end{pmatrix}\\,.\n",
    "$$\n",
    "\n",
    "Here, we would first switch the first row with the third row, since $5 > 2$. So\n",
    "\n",
    "$$\n",
    "U = \n",
    "\\begin{pmatrix}\n",
    "5 & -9 & 11 \\\\\\\n",
    "-1 & 3 & \\frac{1}{2} \\\\\\\n",
    "2 & -1 & 4\n",
    "\\end{pmatrix}\\,.\n",
    "$$\n",
    "\n",
    "The gaussian elimination of the first column would then give us\n",
    "\n",
    "$$\n",
    "L = \n",
    "\\begin{pmatrix}\n",
    "1 & 0 & 0 \\\\\\\n",
    "-\\frac{1}{5} & 1 & 0 \\\\\\\n",
    "\\frac{2}{5} & 0 & 1\n",
    "\\end{pmatrix}\n",
    "$$\n",
    "\n",
    "and\n",
    "\n",
    "$$\n",
    "U = \n",
    "\\begin{pmatrix}\n",
    "5 & -9 & 11 \\\\\\\n",
    "0 & \\frac{6}{5} & \\frac{27}{10} \\\\\\\n",
    "0 & \\frac{13}{5} & -\\frac{2}{5}\n",
    "\\end{pmatrix}\\,.\n",
    "$$\n",
    "\n",
    "We would also represent the row swap by adding a <span class='hiterm'>permutation matrix</span>, $P$, where\n",
    "\n",
    "$$\n",
    "P = \n",
    "\\begin{pmatrix}\n",
    "0 & 0 & 1 \\\\\\\n",
    "0 & 1 & 0 \\\\\\\n",
    "1 & 0 & 0\n",
    "\\end{pmatrix}\\,.\n",
    "$$\n",
    "\n",
    "When this permuation matrix is multiplied by the original $U$, it swaps $U\\,$'s rows in the desired way. \n",
    "\n",
    "In the second step, we&#8217;ll have to swap the second and third rows, since $\\frac{13}{5} > \\frac{6}{5}$. We record this permutation in two ways: first by swapping the second and third rows in $P$; second by swapping the second and third rows of the *first column* of $L$. So we have\n",
    "\n",
    "$$\n",
    "P = \n",
    "\\begin{pmatrix}\n",
    "0 & 0 & 1 \\\\\\\n",
    "1 & 0 & 0 \\\\\\\n",
    "0 & 1 & 0\n",
    "\\end{pmatrix}\\,.\n",
    "$$\n",
    "\n",
    "and\n",
    "\n",
    "$$\n",
    "L = \n",
    "\\begin{pmatrix}\n",
    "1 & 0 & 0 \\\\\\\n",
    "\\frac{2}{5} & 1 & 0 \\\\\\\n",
    "-\\frac{1}{5} & \\frac{6}{13} & 1\n",
    "\\end{pmatrix}\\,.\n",
    "$$\n",
    "\n",
    "Performing the gaussian elimination step on (the swapped-row) $U$ gives us\n",
    "\n",
    "$$\n",
    "U = \n",
    "\\begin{pmatrix}\n",
    "5 & -9 & 11 \\\\\\\n",
    "0 & \\frac{13}{5} & -\\frac{2}{5}\\\\\\\n",
    "0 & 0 & \\frac{75}{26} \n",
    "\\end{pmatrix}\\,.\n",
    "$$\n",
    "\n",
    "With $U$ upper triangular and $L$ lower triangular, the process is complete. But with the pivoting, we no longer have the decomposition  $A = LU$, but instead $PA = LU$. The addition of the permutation adds only a trivial step to solving the system $Ax = b$ using decomposition, and protects us from potential numerical problems.\n",
    "\n",
    "As before, we&#8217;ll check our calculations to make sure the $L$, $U$, and $P$ matrices we calculated satisfy $PA = LU$."
   ]
  },
  {
   "cell_type": "code",
   "execution_count": 52,
   "metadata": {},
   "outputs": [
    {
     "name": "stdout",
     "output_type": "stream",
     "text": [
      "LU = PA, OK!\n"
     ]
    }
   ],
   "source": [
    "A = np.array([[2.,  -1., 4.],\n",
    "              [-1.,  3., 0.5],\n",
    "              [ 5., -9., 11.]])\n",
    "\n",
    "L = np.array([[1,         0, 0],\n",
    "              [2./5,      1, 0],\n",
    "              [-1/5., 6./13, 1]])\n",
    "\n",
    "U = np.array([[5,   -9,       11],\n",
    "              [0, 13./5,   -2./5],\n",
    "              [0,     0, 75./26]])\n",
    "\n",
    "P = np.array([[0., 0., 1.], \n",
    "              [1., 0., 0.], \n",
    "              [0., 1., 0.]])\n",
    "\n",
    "if np.all(np.abs(matprod(L,U) - matprod(P, A)) < 10e-14):\n",
    "    print 'LU = PA, OK!'\n",
    "else:\n",
    "    print 'LU != PA, Not OK!'\n",
    "\n"
   ]
  },
  {
   "cell_type": "markdown",
   "metadata": {},
   "source": [
    "--------------------"
   ]
  },
  {
   "cell_type": "markdown",
   "metadata": {},
   "source": [
    "##### Exercise: The LUP algorithm"
   ]
  },
  {
   "cell_type": "markdown",
   "metadata": {},
   "source": [
    "Generalizing from the example above, the code below performs LUP decomposition for an arbitrary square matrix. There are several points to note.\n",
    "\n",
    "1. To keep the code clear, the pivoting step is assigned to helper functions called within the main function. \n",
    "2. The function also keeps track of the number of row swaps performed. This information will come in handy later.\n",
    "3. Since we&#8217;re working with MemoryViews in this function, they are coerced back to arrays in the `return`. Otherwise the function would return MemoryView objects in the result tuple."
   ]
  },
  {
   "cell_type": "code",
   "execution_count": 85,
   "metadata": {},
   "outputs": [],
   "source": [
    "%%cython -lm\n",
    "import cython\n",
    "import numpy as np\n",
    "cimport numpy as np\n",
    "from libc.math cimport pow\n",
    "\n",
    "@cython.boundscheck(False)\n",
    "@cython.wraparound(False)\n",
    "@cython.cdivision(True)\n",
    "cpdef lup_decomp(double[:, ::1] A):\n",
    "    '''\n",
    "    Perform the LUP decomposition of A:\n",
    "        PA = LU\n",
    "    \n",
    "    Returns a tuple, (L, U, P, nswaps), where\n",
    "    nswaps is the number of permutations made \n",
    "    while performing the decomposition.\n",
    "    '''\n",
    "    \n",
    "    assert A.shape[0] == A.shape[1], 'Not a square matrix.'\n",
    "    \n",
    "    cdef:\n",
    "        int n = A.shape[0]\n",
    "        int i_piv, k, j, h\n",
    "        int nswaps = 0\n",
    "        double[:, ::1] U = A.copy()\n",
    "        double[:, ::1] P = np.eye(n)\n",
    "        double[:, ::1] L = np.eye(n)\n",
    "        \n",
    "    for k in xrange(n-1):\n",
    "        # Find the pivot row and permute matrices\n",
    "        i_piv = get_pivot(U, k)\n",
    "        if i_piv != k:\n",
    "            nswaps += 1\n",
    "            swap_rows(U, k, i_piv, k, n)\n",
    "            swap_rows(P, k, i_piv, 0, n) \n",
    "            if k > 0:\n",
    "                swap_rows(L, k, i_piv, 0, k)\n",
    "           \n",
    "        # Gaussian eliminate sub-diagonal elements of U.\n",
    "        for j in xrange(k+1, n):\n",
    "            L[j, k] = U[j, k] / U[k, k]\n",
    "            for h in xrange(k, n):\n",
    "                U[j, h] -=  U[k, h]  * L[j, k]              \n",
    "                \n",
    "    return (np.asarray(L), np.asarray(U), np.asarray(P), nswaps)\n",
    "    \n",
    "@cython.boundscheck(False)\n",
    "@cython.wraparound(False)   \n",
    "cdef int get_pivot(double[:, ::1] U, int k):\n",
    "    '''\n",
    "    Find the pivot row of column k in a matrix.\n",
    "    The pivot row is the row i (>= k) of U for which \n",
    "    abs(U[i, k]) is largest.\n",
    "    '''\n",
    "    cdef:\n",
    "        int j\n",
    "        int n = U.shape[0]\n",
    "        int i_piv = k\n",
    "\n",
    "    for j in xrange(k + 1, n):\n",
    "        if abs(U[j, k]) > abs(U[i_piv, k]):\n",
    "            i_piv = j\n",
    "    return i_piv\n",
    "\n",
    "@cython.boundscheck(False)\n",
    "@cython.wraparound(False)           \n",
    "cdef void swap_rows(double[:, ::1] M, int row1, int row2, int col_start, int col_end):\n",
    "    '''\n",
    "    A helper function to swap segments of rows in a matrix.\n",
    "\n",
    "    M[row1, col_start:col_end] <-> M[row2, col_start:col_end]\n",
    "    '''    \n",
    "    cdef:\n",
    "        double[::1] first = M[row1, col_start:col_end].copy()\n",
    "    \n",
    "    M[row1, col_start:col_end] = M[row2, col_start:col_end].copy()\n",
    "    M[row2, col_start:col_end] = first"
   ]
  },
  {
   "cell_type": "markdown",
   "metadata": {},
   "source": [
    "As always, we test its accuracy"
   ]
  },
  {
   "cell_type": "code",
   "execution_count": 82,
   "metadata": {},
   "outputs": [
    {
     "name": "stdout",
     "output_type": "stream",
     "text": [
      "L =\n",
      "[[ 1.          0.          0.        ]\n",
      " [ 0.4         1.          0.        ]\n",
      " [-0.2         0.46153846  1.        ]]\n",
      "U =\n",
      "[[  5.          -9.          11.        ]\n",
      " [  0.           2.6         -0.4       ]\n",
      " [  0.           0.           2.88461538]]\n",
      "P =\n",
      "[[ 0.  0.  1.]\n",
      " [ 1.  0.  0.]\n",
      " [ 0.  1.  0.]]\n"
     ]
    }
   ],
   "source": [
    "A = np.array([[2.,  -1., 4.],\n",
    "              [-1.,  3., 0.5],\n",
    "              [ 5., -9., 11.]])\n",
    "\n",
    "L, U, P, nswaps = lup_decomp(A)\n",
    "print 'L ='\n",
    "print L\n",
    "print 'U ='\n",
    "print U\n",
    "print 'P ='\n",
    "print P"
   ]
  },
  {
   "cell_type": "markdown",
   "metadata": {},
   "source": [
    "Scipy has a function `lu` in its `linalg` module that performs LUP decompositions. (Oddly, numpy does not)."
   ]
  },
  {
   "cell_type": "code",
   "execution_count": 83,
   "metadata": {},
   "outputs": [
    {
     "name": "stdout",
     "output_type": "stream",
     "text": [
      "L =\n",
      "[[ 1.          0.          0.        ]\n",
      " [ 0.4         1.          0.        ]\n",
      " [-0.2         0.46153846  1.        ]]\n",
      "U =\n",
      "[[  5.          -9.          11.        ]\n",
      " [  0.           2.6         -0.4       ]\n",
      " [  0.           0.           2.88461538]]\n",
      "P =\n",
      "[[ 0.  1.  0.]\n",
      " [ 0.  0.  1.]\n",
      " [ 1.  0.  0.]]\n"
     ]
    }
   ],
   "source": [
    "P, L, U = la.lu(A)\n",
    "print 'L ='\n",
    "print L\n",
    "print 'U ='\n",
    "print U\n",
    "print 'P ='\n",
    "print P"
   ]
  },
  {
   "cell_type": "markdown",
   "metadata": {},
   "source": [
    "Note that our results match scipy&#8217;s except for the $P$ matrix. This is because scipy perform the decomposition $A = LUP$. Therefore what scipy returns as $P$ is actually the inverse of what we&#8217;ve defined as $P$. The inverse of a permutation matrix is its transpose (obvious if you think about it), and that's what we see here. So our function appears accurate.\n",
    "\n",
    "Now, timings."
   ]
  },
  {
   "cell_type": "code",
   "execution_count": 84,
   "metadata": {},
   "outputs": [
    {
     "name": "stdout",
     "output_type": "stream",
     "text": [
      "Scipy lu\n",
      "1000 loops, best of 3: 255 µs per loop\n",
      "Cython\n",
      "100 loops, best of 3: 2.88 ms per loop\n"
     ]
    }
   ],
   "source": [
    "A = np.random.randn(1e4).reshape((100, 100))\n",
    "print 'Scipy lu'\n",
    "%timeit la.lu(A)\n",
    "print 'Cython'\n",
    "%timeit lup_decomp(A)"
   ]
  },
  {
   "cell_type": "markdown",
   "metadata": {},
   "source": [
    "On a $100 \\times 100$ matrix, our Cython function is ten times slower than scipy. Not great news, but perhaps not surprising given that scipy is calling a highly-optimized Fortran function. There are also probably some low-level optimizations we could make to our code. But this is fast enough to be satisfactory."
   ]
  },
  {
   "cell_type": "markdown",
   "metadata": {},
   "source": [
    "-----------"
   ]
  },
  {
   "cell_type": "markdown",
   "metadata": {},
   "source": [
    "### The determinant redux"
   ]
  },
  {
   "cell_type": "markdown",
   "metadata": {},
   "source": [
    "Recall that above we convinced ourselves that the determinant of a triangular matrix is just the product of its diagonal entries. Since the determinant of the product of two matrices is the product of their determinants, then for an LU decomposition we have\n",
    "    \n",
    "$$\n",
    "\\begin{align}\n",
    "\\det(A) &= \\det(LU)\\\\\\\n",
    "        &= \\det(L)\\times\\det(U)\\\\\\\n",
    "        &= \\prod_{i=0}^{n-1}l_{ii}\\times\\prod_{i=0}^{n-1}u_{ii}\\\\\\\n",
    "        &= \\prod_{i=0}^{n-1}u_{ii}\\,.\n",
    "\\end{align}\n",
    "$$\n",
    "\n",
    "The last line obtains, becuase $L$ has ones along its diagonal. (There are alternative $LU$ decompositions where this isn&#8217;t so. For the LUP decomposition we have\n",
    "                                                                 \n",
    "$$\n",
    "\\begin{align}\n",
    "\\det(A) &= \\det(L)\\times \\det(U) \\times \\det\\left(P^T\\right)\\\\\\\n",
    "        &= \\det\\left(P^T\\right)\\times\\prod_{i=0}^{n-1}u_{ii}\\,.\n",
    "\\end{align}                                                            \n",
    "$$\n",
    "\n",
    "It can be shown (but not so easily) that the determinant of $P^T$ is equal to $(-1)^\\textrm{# swaps}$. So if we swapped two rows during the decomposition, the determinant would be 1, if we swapped three, it would be $-1$. This is why we recorded the number of row swaps in the `lup_decomp` function above.\n",
    "                                                                                            \n",
    "So the LUP decomposition not only provides an efficient method for solving a linear system, it also provides an efficient method for computing determinants.                                                                                          "
   ]
  },
  {
   "cell_type": "markdown",
   "metadata": {},
   "source": [
    "--------------------"
   ]
  },
  {
   "cell_type": "markdown",
   "metadata": {},
   "source": [
    "##### Exercise: Computing the determinant via LUP decomposition"
   ]
  },
  {
   "cell_type": "markdown",
   "metadata": {},
   "source": [
    "With the code for the LUP decomposition already written, writing a determinant function is straightforward. Because each `%%cython` cell in the IPython notebook is an independent module, we have to include all the LUP decomposition code in the cell below. But everything below the `lup_determinant` function is identical to what was coded above."
   ]
  },
  {
   "cell_type": "code",
   "execution_count": 100,
   "metadata": {},
   "outputs": [],
   "source": [
    "%%cython -lm\n",
    "import cython\n",
    "import numpy as np\n",
    "cimport numpy as np\n",
    "from libc.math cimport pow\n",
    "\n",
    "@cython.boundscheck(False)\n",
    "@cython.wraparound(False)           \n",
    "cpdef double lup_determinant(double[:, ::1] A):\n",
    "    assert A.shape[0] == A.shape[1], 'Requires square matrix.'\n",
    "    cdef:\n",
    "        int n = A.shape[0]\n",
    "        double[:, ::1] L\n",
    "        double[:, ::1] U\n",
    "        double[:, ::1] P\n",
    "        int nswaps\n",
    "        int i\n",
    "    \n",
    "    L, U, P, nswaps = lup_decomp(A)\n",
    "    \n",
    "    cdef double det = pow(-1, nswaps)\n",
    "    for i in xrange(n):\n",
    "        det *= U[i, i]\n",
    "    return det\n",
    "\n",
    "@cython.boundscheck(False)\n",
    "@cython.wraparound(False)\n",
    "@cython.cdivision(True)\n",
    "cpdef lup_decomp(double[:, ::1] A):\n",
    "    '''\n",
    "    Perform the LUP decomposition of A:\n",
    "        PA = LU\n",
    "    \n",
    "    Returns a tuple, (L, U, P, nswaps), where\n",
    "    nswaps is the number of permutations made \n",
    "    while performing the decomposition.\n",
    "    '''\n",
    "    \n",
    "    assert A.shape[0] == A.shape[1], 'Not a square matrix.'\n",
    "    \n",
    "    cdef:\n",
    "        int n = A.shape[0]\n",
    "        int i_piv, k, j, h\n",
    "        int nswaps = 0\n",
    "        double[:, ::1] U = A.copy()\n",
    "        double[:, ::1] P = np.eye(n)\n",
    "        double[:, ::1] L = np.eye(n)\n",
    "        \n",
    "    for k in xrange(n-1):\n",
    "        # Find the pivot row and permute matrices\n",
    "        i_piv = get_pivot(U, k)\n",
    "        if i_piv != k:\n",
    "            nswaps += 1\n",
    "            swap_rows(U, k, i_piv, k, n)\n",
    "            swap_rows(P, k, i_piv, 0, n) \n",
    "            if k > 0:\n",
    "                swap_rows(L, k, i_piv, 0, k)\n",
    "           \n",
    "        # Gaussian eliminate sub-diagonal elements of U.\n",
    "        for j in xrange(k+1, n):\n",
    "            L[j, k] = U[j, k] / U[k, k]\n",
    "            for h in xrange(k, n):\n",
    "                U[j, h] -=  U[k, h]  * L[j, k]              \n",
    "                \n",
    "    return (np.asarray(L), np.asarray(U), np.asarray(P), nswaps)\n",
    "    \n",
    "@cython.boundscheck(False)\n",
    "@cython.wraparound(False)   \n",
    "cdef int get_pivot(double[:, ::1] U, int k):\n",
    "    '''\n",
    "    Find the pivot row of column k in a matrix.\n",
    "    The pivot row is the row i (>= k) of U for which \n",
    "    abs(U[i, k]) is largest.\n",
    "    '''\n",
    "    cdef:\n",
    "        int j\n",
    "        int n = U.shape[0]\n",
    "        int i_piv = k\n",
    "\n",
    "    for j in xrange(k + 1, n):\n",
    "        if abs(U[j, k]) > abs(U[i_piv, k]):\n",
    "            i_piv = j\n",
    "    return i_piv\n",
    "\n",
    "@cython.boundscheck(False)\n",
    "@cython.wraparound(False)           \n",
    "cdef void swap_rows(double[:, ::1] M, int row1, int row2, int col_start, int col_end):\n",
    "    '''\n",
    "    A helper function to swap segments of rows in a matrix.\n",
    "\n",
    "    M[row1, col_start:col_end] <-> M[row2, col_start:col_end]\n",
    "    '''    \n",
    "    cdef:\n",
    "        double[::1] first = M[row1, col_start:col_end].copy()\n",
    "    \n",
    "    M[row1, col_start:col_end] = M[row2, col_start:col_end].copy()\n",
    "    M[row2, col_start:col_end] = first"
   ]
  },
  {
   "cell_type": "markdown",
   "metadata": {},
   "source": [
    "As always, we test accuracy and speed."
   ]
  },
  {
   "cell_type": "code",
   "execution_count": 101,
   "metadata": {},
   "outputs": [
    {
     "name": "stdout",
     "output_type": "stream",
     "text": [
      "Numpy\n",
      "19.8309766936\n",
      "Cython, LUP determinant\n",
      "19.8309766936\n"
     ]
    }
   ],
   "source": [
    "B = np.random.randn(100).reshape((10, 10))\n",
    "print 'Numpy'\n",
    "print np.linalg.det(B)\n",
    "print 'Cython, LUP determinant'\n",
    "print lup_determinant(B)"
   ]
  },
  {
   "cell_type": "code",
   "execution_count": 102,
   "metadata": {},
   "outputs": [
    {
     "name": "stdout",
     "output_type": "stream",
     "text": [
      "Numpy\n",
      "10000 loops, best of 3: 63.3 µs per loop\n",
      "Cython, LUP determinant\n",
      "1000 loops, best of 3: 236 µs per loop\n"
     ]
    }
   ],
   "source": [
    "print 'Numpy'\n",
    "%%timeit np.linalg.det(B)\n",
    "print 'Cython, LUP determinant'\n",
    "%%timeit lup_determinant(B)"
   ]
  },
  {
   "cell_type": "markdown",
   "metadata": {},
   "source": [
    "Our function is still slower than numpy, but in the ballpark. It is dramatically faster than the ill-fated recursive function."
   ]
  },
  {
   "cell_type": "markdown",
   "metadata": {},
   "source": [
    "------------------"
   ]
  },
  {
   "cell_type": "markdown",
   "metadata": {},
   "source": [
    "## Synthesis: Solving a linear system with LUP decomposition"
   ]
  },
  {
   "cell_type": "markdown",
   "metadata": {},
   "source": [
    "With all the puzzle pieces on the table, the code below arranges them into a linear system solver. The function `lup_solve` simply wraps the determinant, decomposition, and backward and forward substition code already written."
   ]
  },
  {
   "cell_type": "code",
   "execution_count": 114,
   "metadata": {},
   "outputs": [],
   "source": [
    "%%cython -lm\n",
    "import cython\n",
    "import numpy as np\n",
    "cimport numpy as np\n",
    "from libc.math cimport pow, fabs\n",
    "\n",
    "def lup_solve(double[:, ::1] A, double[::1] b):\n",
    "    # Perform the LUP decomposition.\n",
    "    cdef:\n",
    "        double[:, ::1] L\n",
    "        double[:, ::1] U\n",
    "        double[:, ::1] P\n",
    "        int nswaps\n",
    "    L, U, P, nswaps = lup_decomp(A)\n",
    "    \n",
    "    # Is the determinant non-zero?\n",
    "    cdef double det\n",
    "    det = determinant_from_lup(U, nswaps)\n",
    "    assert fabs(det) > 10e-16, 'Zero determinant'\n",
    "    \n",
    "    # Decomposition provides PA = LU therefore\n",
    "    # Ax = b -> PAx = Pb -> LUx = Pb, which\n",
    "    # can be solve by backward and forward \n",
    "    # induction.\n",
    "    \n",
    "    # Permute b\n",
    "    cdef double [::1] b_permute = matvecprod(P, b)\n",
    "    \n",
    "    # Solve Ly = Pb, y := Ux\n",
    "    cdef double[::1] y = forward_sub_solve(L, b_permute)\n",
    "    \n",
    "    # Solve Ux = y\n",
    "    cdef double[::1] x = backward_sub_solve(U, y)\n",
    "    \n",
    "    return np.asarray(x)\n",
    "        \n",
    "\n",
    "@cython.boundscheck(False)\n",
    "@cython.wraparound(False)\n",
    "@cython.cdivision(True)\n",
    "cpdef lup_decomp(double[:, ::1] A):\n",
    "    '''\n",
    "    Perform the LUP decomposition of A:\n",
    "        PA = LU\n",
    "    \n",
    "    Returns a tuple, (L, U, P, nswaps), where\n",
    "    nswaps is the number of permutations made \n",
    "    while performing the decomposition.\n",
    "    '''\n",
    "    \n",
    "    assert A.shape[0] == A.shape[1], 'Not a square matrix.'\n",
    "    \n",
    "    cdef:\n",
    "        int n = A.shape[0]\n",
    "        int i_piv, k, j, h\n",
    "        int nswaps = 0\n",
    "        double[:, ::1] U = A.copy()\n",
    "        double[:, ::1] P = np.eye(n)\n",
    "        double[:, ::1] L = np.eye(n)\n",
    "        \n",
    "    for k in xrange(n-1):\n",
    "        # Find the pivot row and permute matrices\n",
    "        i_piv = get_pivot(U, k)\n",
    "        if i_piv != k:\n",
    "            nswaps += 1\n",
    "            swap_rows(U, k, i_piv, k, n)\n",
    "            swap_rows(P, k, i_piv, 0, n) \n",
    "            if k > 0:\n",
    "                swap_rows(L, k, i_piv, 0, k)\n",
    "           \n",
    "        # Gaussian eliminate sub-diagonal elements of U.\n",
    "        for j in xrange(k+1, n):\n",
    "            L[j, k] = U[j, k] / U[k, k]\n",
    "            for h in xrange(k, n):\n",
    "                U[j, h] -=  U[k, h]  * L[j, k]              \n",
    "                \n",
    "    return (np.asarray(L), np.asarray(U), np.asarray(P), nswaps)\n",
    "    \n",
    "@cython.boundscheck(False)\n",
    "@cython.wraparound(False)   \n",
    "cdef int get_pivot(double[:, ::1] U, int k):\n",
    "    '''\n",
    "    Find the pivot row of column k in a matrix.\n",
    "    The pivot row is the row i (>= k) of U for which \n",
    "    abs(U[i, k]) is largest.\n",
    "    '''\n",
    "    cdef:\n",
    "        int j\n",
    "        int n = U.shape[0]\n",
    "        int i_piv = k\n",
    "\n",
    "    for j in xrange(k + 1, n):\n",
    "        if abs(U[j, k]) > abs(U[i_piv, k]):\n",
    "            i_piv = j\n",
    "    return i_piv\n",
    "\n",
    "@cython.boundscheck(False)\n",
    "@cython.wraparound(False)           \n",
    "cdef void swap_rows(double[:, ::1] M, int row1, int row2, int col_start, int col_end):\n",
    "    '''\n",
    "    A helper function to swap segments of rows in a matrix.\n",
    "\n",
    "    M[row1, col_start:col_end] <-> M[row2, col_start:col_end]\n",
    "    '''    \n",
    "    cdef:\n",
    "        double[::1] first = M[row1, col_start:col_end].copy()\n",
    "    \n",
    "    M[row1, col_start:col_end] = M[row2, col_start:col_end].copy()\n",
    "    M[row2, col_start:col_end] = first\n",
    "\n",
    "@cython.boundscheck(False)\n",
    "@cython.wraparound(False) \n",
    "cdef double determinant_from_lup(double[:, ::1] U, int nswaps):\n",
    "    '''\n",
    "    Find the determinant of a matrix from its LUP decomposition\n",
    "    U is the upper-triangular matrix from the decomposition.\n",
    "    nswaps is the number of pivot swaps made.\n",
    "    Both are returned by lup_decomposition; the L and P \n",
    "    matrices are not needed.\n",
    "    '''\n",
    "    cdef double det = pow(-1, nswaps)\n",
    "    for i in xrange(U.shape[0]):\n",
    "        det *= U[i, i]\n",
    "    return det\n",
    "\n",
    "cimport cython\n",
    "import numpy as np\n",
    "cimport numpy as np\n",
    "\n",
    "@cython.boundscheck(False)\n",
    "@cython.wraparound(False)\n",
    "@cython.cdivision(True)\n",
    "cdef double[::1] forward_sub_solve(double[:, ::1] L, double[::1] b):\n",
    "    ''' \n",
    "    Solve, by forward substition, the system Lx = b, where\n",
    "    L is a lower triangular matrix.\n",
    "    \n",
    "    Note that the code does not check whether L is lower\n",
    "    triangular. Calling the function with an arbitrary\n",
    "    '''\n",
    "    \n",
    "    assert L.shape[1] == b.shape[0], \\\n",
    "        'Matrix and vector are incompatible shapes.'\n",
    "    assert fabs(L[0, 0]) >= 10e-16, \\\n",
    "        'Zero element on diagonal.'\n",
    "    \n",
    "    # No. of variables to solve\n",
    "    cdef int n = b.shape[0]\n",
    "    \n",
    "    # Loop indices\n",
    "    cdef int i, k\n",
    "        \n",
    "    # Initialize the solution vector\n",
    "    cdef double[::1] y = np.zeros(b.shape[0])\n",
    "    y[0] = b[0] / L[0,0] \n",
    "\n",
    "    cdef double sum_term = 0.0\n",
    "    for i in xrange(1, n):\n",
    "        if fabs(L[i, i]) <= 10e-16:\n",
    "            raise ValueError('Zero element on diagonal.')\n",
    "        sum_term = 0.0\n",
    "        for k in xrange(0, i):\n",
    "            sum_term += L[i, k] * y[k]\n",
    "        y[i] = (b[i] - sum_term) / L[i, i]\n",
    "        \n",
    "    return y\n",
    "\n",
    "cdef double[::1] backward_sub_solve(double[:, ::1] U, double[::1] b):\n",
    "    ''' \n",
    "    Solve, by backward substition, the system Ux = b, where\n",
    "    U is an upper triangular matrix.\n",
    "    \n",
    "    Note that the code does not check whether U is upper\n",
    "    triangular. Calling the function with an arbitrary\n",
    "    square matrix will result in nonsense.\n",
    "    '''\n",
    "    assert U.shape[1] == b.shape[0], \\\n",
    "        'Matrix and vector are incompatible shapes.'\n",
    "    assert fabs(U[0, 0]) >= 10e-16, \\\n",
    "        'Zero element on diagonal.'\n",
    "    \n",
    "    # No. of variables to solve\n",
    "    cdef int n = b.shape[0]\n",
    "    \n",
    "    # Loop indices\n",
    "    cdef int i, k\n",
    "        \n",
    "    # Initialize the solution vector\n",
    "    cdef double[::1] y = np.zeros(b.shape[0])\n",
    "    y[n-1] = b[n-1] / U[n-1, n-1] \n",
    "\n",
    "    cdef double sum_term = 0.0\n",
    "    for i in xrange(n-2, -1, -1):\n",
    "        if fabs(U[i, i]) <= 10e-16:\n",
    "            raise ValueError('Zero element on diagonal.')\n",
    "        sum_term = 0.0\n",
    "        for k in xrange(i+1, n):\n",
    "            sum_term += U[i, k] * y[k]\n",
    "        y[i] = (b[i] - sum_term) / U[i,i]\n",
    "    \n",
    "    return y\n",
    "\n",
    "@cython.boundscheck(False)\n",
    "@cython.wraparound(False)\n",
    "cdef double[::1] matvecprod(double[:, ::1] A, double[::1] b):\n",
    "    '''\n",
    "    Matrix-vector multiplication.\n",
    "    '''\n",
    "    cdef: \n",
    "        Py_ssize_t i, j, k\n",
    "        Py_ssize_t A_n = A.shape[0]\n",
    "        Py_ssize_t A_m = A.shape[1]\n",
    "        Py_ssize_t b_n = b.shape[0]\n",
    "        double[::1] c\n",
    "    \n",
    "    # Are matrices conformable?\n",
    "    assert A_m == b_n, \\\n",
    "        'Non-conformable shapes.'\n",
    "    \n",
    "    # Initialize the results matrix.\n",
    "    c = np.zeros(A_n)\n",
    "    for i in xrange(A_n):\n",
    "            for k in xrange(b_n):\n",
    "                c[i] += A[i, k] * b[k]\n",
    "    return c"
   ]
  },
  {
   "cell_type": "markdown",
   "metadata": {},
   "source": [
    "Having already tested its component functions, the solver ought to be correct. It matches numpy&#8217;s solver on a sample $3\\times 3$ system. "
   ]
  },
  {
   "cell_type": "code",
   "execution_count": 118,
   "metadata": {},
   "outputs": [
    {
     "name": "stdout",
     "output_type": "stream",
     "text": [
      "Cython:\n",
      "[ 2.75     3.03125 -3.34375]\n",
      "Numpy solve:\n",
      "[ 2.75     3.03125 -3.34375]\n"
     ]
    }
   ],
   "source": [
    "A = np.array([[1., -2, 2], [4, 1, 3], [-2, 3, 1]])\n",
    "b = np.array([-10, 4., .25])\n",
    "\n",
    "print 'Cython:'\n",
    "print lup_solve(A, b)\n",
    "print 'Numpy solve:'\n",
    "print np.linalg.solve(A, b)"
   ]
  },
  {
   "cell_type": "markdown",
   "metadata": {},
   "source": [
    "While it is substantially slower than numpy&#8212;about 6 times&#8212;the absolute speed is acceptable on this small system."
   ]
  },
  {
   "cell_type": "code",
   "execution_count": 119,
   "metadata": {},
   "outputs": [
    {
     "name": "stdout",
     "output_type": "stream",
     "text": [
      "Cython:\n",
      "10000 loops, best of 3: 153 µs per loop\n",
      "Numpy solve\n",
      "10000 loops, best of 3: 26.4 µs per loop\n"
     ]
    }
   ],
   "source": [
    "print 'Cython:'\n",
    "%timeit lup_solve(A, b)\n",
    "print 'Numpy solve:'\n",
    "%timeit np.linalg.solve(A, b)"
   ]
  },
  {
   "cell_type": "markdown",
   "metadata": {},
   "source": [
    "It solves a much larger, $1000\\times 1000$ matrix in under a second; about 20 times slower than numpy."
   ]
  },
  {
   "cell_type": "code",
   "execution_count": null,
   "metadata": {},
   "outputs": [],
   "source": [
    "# A larger 1000 x 1000 system.\n",
    "M = np.random.randn(1e6).reshape((1000, 1000))\n",
    "c = np.random.randn(1000).reshape((1000,))\n",
    "\n",
    "# Timings\n",
    "print 'Cython'\n",
    "%timeit lup_solve(M, c)\n",
    "print 'Numpy solve'\n",
    "%timeit np.linalg.solve(M, c)\n",
    "\n",
    "# Check that they are the same to tolerance\n",
    "if np.abs(lup_solve(M, c) - np.linalg.solve(M, c)).sum() > 10e-9:\n",
    "    print 'Cython != Numpy, not OK'\n",
    "else:\n",
    "    print 'Cython = Numpy, OK'"
   ]
  },
  {
   "cell_type": "markdown",
   "metadata": {},
   "source": [
    "## Iterative Methods: A whole other route"
   ]
  },
  {
   "cell_type": "markdown",
   "metadata": {},
   "source": [
    "<span class='hiterm'>Iterative methods</span> are an altnerative means of solving linear systems. They are not always successful, but when they are, they can be very efficient.\n",
    "\n",
    "Let $Q$ be some matrix that is easily invertible; some cadidates are mentioned below. Consider the following re-arrangement of the matrix equation:\n",
    "\n",
    "$$\n",
    "\\begin{align}\n",
    "Ax &= b \\\\\\\n",
    " 0 &= b - Ax \\\\\\\n",
    "Qx &= b - Ax + Qx \\\\\\\n",
    "Qx &= b + (Q - A)\\,x \\\\\\\n",
    "x  &= Q^{-1}b + (I-Q^{-1}A)\\,x \\,.\n",
    "\\end{align}\n",
    "$$\n",
    "\n",
    "The last line suggests an iteration on $x$ along the following lines.\n",
    "\n",
    "$$\n",
    "\\begin{align}\n",
    "x^{(0)} &\\leftarrow \\tilde{x} \\ \\textrm{(guess)} \\\\\\\n",
    "x^{(k+1)} &\\leftarrow Q^{-1}b + (I-Q^{-1}A)\\,x^{(k)}\\\\\\\n",
    "\\textrm{until} & \\left|x^{(k-1)} - x^{(k)}\\right| \\le \\varepsilon\n",
    "\\end{align}\n",
    "$$\n",
    "\n",
    "This is the generic form of an iterative solver. Specific methods differ in their choice of $Q$ or implementation details.\n",
    "\n",
    "The <span class='hiterm'>Gauss-Siedel</span> method is a simple, relatively robust implementation of the iteration where $Q$ is an upper triangular matrix whose entries  are the upper-triangular entries of $A$. There is a somewhat simpler method, called the <span class='hiterm'>Jacobi</span> method, where $Q$ is taken to be a diagonal matrix comprised of the diagonal elements of $A$. The Gauss-Siedel often has more robust convergence, though that depends on the properties of $A$. \n",
    "\n",
    "Both methods converge better when the $A$ is <span class='hiterm'>diagonally dominant</span>, when the value of each diagonal element is larger than the sum of entries in the column and row of that element. Or:\n",
    "    \n",
    "$$\n",
    "\\left|a_{ii}\\right| > \\sum_{i=1\\,;\\,j\\ne i}^n\\left|a_{ij}\\right| \\;\\;\\; \\forall\\, i\n",
    "$$"
   ]
  },
  {
   "cell_type": "markdown",
   "metadata": {},
   "source": [
    "______________________"
   ]
  },
  {
   "cell_type": "markdown",
   "metadata": {},
   "source": [
    "##### Exercise: The Gauss-Siedel Algorithm"
   ]
  },
  {
   "cell_type": "markdown",
   "metadata": {},
   "source": [
    "The function below implements the Gauss-Siedel method. Note that the matrix $Q$ is never formally referred to in the code. It&#8217;s inversion is baked into the iterative formula. Similarities with the forward substitution formulas coded above are not coincidental.  "
   ]
  },
  {
   "cell_type": "code",
   "execution_count": 26,
   "metadata": {},
   "outputs": [],
   "source": [
    "%%cython -lm\n",
    "import cython\n",
    "import numpy as np\n",
    "cimport numpy as np\n",
    "from libc.math cimport abs\n",
    "\n",
    "@cython.boundscheck(False)\n",
    "@cython.wraparound(False)\n",
    "@cython.cdivision(True)\n",
    "cpdef gauss_siedel_solve(double[:, ::1] A, double[::1] b,\n",
    "                         double tol = 10e-12, int max_iter = 100):\n",
    "    '''\n",
    "    Solve a linear system Ax = b using the Gauss-Siedel iterative\n",
    "    method.\n",
    "    '''\n",
    "    \n",
    "    assert A.shape[0] == A.shape[1], 'Matrix is not square.'\n",
    "    assert A.shape[1] == b.shape[0], \\\n",
    "        'Non-conformable matrix and vector.'\n",
    "    cdef:\n",
    "        int n = A.shape[0]\n",
    "        double[::1] x = np.ones(n)\n",
    "        int iter_i = 0\n",
    "        double tol_i = 10e12 # Large number to start.\n",
    "        double sum_term = 0.\n",
    "        double new_x_i\n",
    "        int i, j\n",
    "        \n",
    "    while (tol_i > tol):\n",
    "        tol_i = 0.\n",
    "        for i in xrange(n):\n",
    "            assert abs(A[i, i]) > 10e-16, 'Zero on diagonal detected.'\n",
    "            sum_term = 0.\n",
    "            for j in xrange(n):\n",
    "                if j != i:\n",
    "                    sum_term += A[i, j] * x[j]\n",
    "            new_x_i = (b[i] - sum_term) / A[i, i]\n",
    "            tol_i += abs(new_x_i - x[i])\n",
    "            x[i] = new_x_i\n",
    "\n",
    "        iter_i += 1\n",
    "        if iter_i > max_iter:\n",
    "            print 'Max iterations, solution may not have converged.'\n",
    "            print 'Matrix may not be diagonally dominant.'\n",
    "            break\n",
    "        \n",
    "    return (np.asarray(x), iter_i, tol_i)"
   ]
  },
  {
   "cell_type": "markdown",
   "metadata": {},
   "source": [
    "On a randomly generated $5\\times 5$ system, the Gauss-Seidel converges to the solution in 10 to 12 iterations.\n",
    "Note how $A$ was agumented to be diagonally dominant. Without that change, the Gauss-Seidel method typically does not converge."
   ]
  },
  {
   "cell_type": "code",
   "execution_count": 43,
   "metadata": {},
   "outputs": [
    {
     "name": "stdout",
     "output_type": "stream",
     "text": [
      "Numpy Solve\n",
      "[ 0.05977965  0.00185487  0.00081283 -0.00602107  0.11776965]\n",
      "Cython Gauss Siedel\n",
      "[ 0.05977965  0.00185487  0.00081283 -0.00602107  0.11776965] \n",
      "  # Iterations:  11\n"
     ]
    }
   ],
   "source": [
    "# Randomly generate a 5 x 5 linear system.\n",
    "A = np.random.randn(25).reshape((5,5)) + np.eye(5) * 10\n",
    "b = np.random.randn(5)\n",
    "\n",
    "print 'Numpy Solve'\n",
    "print np.linalg.solve(A, b)\n",
    "x, niter, tol = gauss_siedel_solve(A, b)\n",
    "print 'Cython Gauss Siedel'\n",
    "print x, '\\n  # Iterations: ', niter"
   ]
  },
  {
   "cell_type": "markdown",
   "metadata": {},
   "source": [
    "To time the method, we&#8217;ll use a large sparse system. The cell below generates a matrix fully populated on the diagonal, but with mostly zeros elsewhere."
   ]
  },
  {
   "cell_type": "code",
   "execution_count": 48,
   "metadata": {},
   "outputs": [],
   "source": [
    "# Randomly generate a 1000 x 1000 sparse linear system\n",
    "n = 1000\n",
    "n_entries = int(0.1 * n)\n",
    "A = np.eye(n) * np.random.randn(n)\n",
    "off_diag_entries = np.random.randn(n_entries)\n",
    "i = 0\n",
    "while (i < n_entries):\n",
    "    fill_row = np.random.random_integers(0, n)\n",
    "    fill_col = np.random.random_integers(0, n)\n",
    "    if (fill_row == fill_col):\n",
    "        continue\n",
    "    else:\n",
    "        A[fill_row, fill_col] = off_diag_entries[i]\n",
    "        i += 1\n",
    "        \n",
    "b = np.random.randn(1000)"
   ]
  },
  {
   "cell_type": "markdown",
   "metadata": {},
   "source": [
    "For this system, the Gauss Siedel method is substantially faster, and it converges in only a few iterations. Checking the result shows the solution it converged to is essentially the same as numpy."
   ]
  },
  {
   "cell_type": "code",
   "execution_count": 53,
   "metadata": {},
   "outputs": [
    {
     "name": "stdout",
     "output_type": "stream",
     "text": [
      "Numpy solve\n",
      "10 loops, best of 3: 26.1 ms per loop\n",
      "Cython Gauss-Siedel\n",
      "100 loops, best of 3: 3.34 ms per loop\n"
     ]
    }
   ],
   "source": [
    "print 'Numpy solve'\n",
    "%timeit np.linalg.solve(A, b)\n",
    "print 'Cython Gauss-Siedel'\n",
    "%timeit gauss_siedel_solve(A, b)"
   ]
  },
  {
   "cell_type": "code",
   "execution_count": 54,
   "metadata": {},
   "outputs": [
    {
     "name": "stdout",
     "output_type": "stream",
     "text": [
      "Gauss Siedel # iterations: 3\n",
      "Sum abs. difference: 2.87827053858e-13\n"
     ]
    }
   ],
   "source": [
    "y_np = np.linalg.solve(A, b)\n",
    "y_gs, niter, tol = gauss_siedel_solve(A, b)\n",
    "print 'Gauss Siedel # iterations:', niter\n",
    "print 'Sum abs. difference between numpy and Gauss-Seidel:', np.abs(y_np - y_gs).sum()\n"
   ]
  }
 ],
 "metadata": {
  "kernelspec": {
   "display_name": "Python 3",
   "language": "python",
   "name": "python3"
  },
  "language_info": {
   "codemirror_mode": {
    "name": "ipython",
    "version": 3
   },
   "file_extension": ".py",
   "mimetype": "text/x-python",
   "name": "python",
   "nbconvert_exporter": "python",
   "pygments_lexer": "ipython3",
   "version": "3.6.4"
  }
 },
 "nbformat": 4,
 "nbformat_minor": 1
}
