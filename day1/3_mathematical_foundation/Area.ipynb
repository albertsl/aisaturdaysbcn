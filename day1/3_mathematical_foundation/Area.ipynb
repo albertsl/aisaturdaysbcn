{
 "cells": [
  {
   "cell_type": "code",
   "execution_count": 3,
   "metadata": {},
   "outputs": [
    {
     "name": "stdout",
     "output_type": "stream",
     "text": [
      "8.0\n"
     ]
    }
   ],
   "source": [
    "import numpy as np\n",
    "\n",
    "m1 = np.array([(1,1),(1,-4)])\n",
    "m2 = np.array([(1,3),(-4,-5)])\n",
    "m3 = np.array([(3,3),(-5,-2)])\n",
    "m4 = np.array([(3,1),(-2,1)])\n",
    "\n",
    "d1 = np.linalg.det(m1)\n",
    "d2 = np.linalg.det(m2)\n",
    "d3 = np.linalg.det(m3)\n",
    "d4 = np.linalg.det(m4)\n",
    "A = (1/2)*(d1+d2+d3+d4)\n",
    "\n",
    "print(A)\n"
   ]
  },
  {
   "cell_type": "code",
   "execution_count": 4,
   "metadata": {},
   "outputs": [
    {
     "name": "stdout",
     "output_type": "stream",
     "text": [
      "8.0\n"
     ]
    }
   ],
   "source": [
    "import numpy as np\n",
    "\n",
    "m1 = np.array([(1,1),(1,-4)])\n",
    "m2 = np.array([(1,3),(-4,-5)])\n",
    "m3 = np.array([(3,3),(-5,-2)])\n",
    "m4 = np.array([(3,1),(-2,1)])\n",
    "\n",
    "d1 = np.linalg.det(m1)\n",
    "d2 = np.linalg.det(m2)\n",
    "d3 = np.linalg.det(m3)\n",
    "d4 = np.linalg.det(m4)\n",
    "\n",
    "A = (1/2)*(d1+d2+d3+d4)\n",
    "\n",
    "print(A)"
   ]
  }
 ],
 "metadata": {
  "kernelspec": {
   "display_name": "Python 3",
   "language": "python",
   "name": "python3"
  },
  "language_info": {
   "codemirror_mode": {
    "name": "ipython",
    "version": 3
   },
   "file_extension": ".py",
   "mimetype": "text/x-python",
   "name": "python",
   "nbconvert_exporter": "python",
   "pygments_lexer": "ipython3",
   "version": "3.6.4"
  }
 },
 "nbformat": 4,
 "nbformat_minor": 2
}
